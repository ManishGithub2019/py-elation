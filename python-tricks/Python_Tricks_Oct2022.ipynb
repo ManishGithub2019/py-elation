{
 "cells": [
  {
   "cell_type": "markdown",
   "id": "327732b6",
   "metadata": {},
   "source": [
    "# 0. Generating a list using range "
   ]
  },
  {
   "cell_type": "code",
   "execution_count": 1,
   "id": "ebea41ba",
   "metadata": {},
   "outputs": [
    {
     "data": {
      "text/plain": [
       "[0, 1, 2, 3, 4, 5, 6, 7, 8, 9]"
      ]
     },
     "execution_count": 1,
     "metadata": {},
     "output_type": "execute_result"
    }
   ],
   "source": [
    "range_list = list(range(0,10))\n",
    "range_list"
   ]
  },
  {
   "cell_type": "markdown",
   "id": "a67781be",
   "metadata": {},
   "source": [
    "# 1. Combining 2 different list "
   ]
  },
  {
   "cell_type": "code",
   "execution_count": 2,
   "id": "a36125a6",
   "metadata": {},
   "outputs": [
    {
     "data": {
      "text/plain": [
       "[1, 2, 3, 4, 5, 10, 20, 30, 40, 50]"
      ]
     },
     "execution_count": 2,
     "metadata": {},
     "output_type": "execute_result"
    }
   ],
   "source": [
    "l1= [1,2,3,4,5]\n",
    "l2 = [10,20,30,40,50]\n",
    "l1 + l2"
   ]
  },
  {
   "cell_type": "code",
   "execution_count": 3,
   "id": "0db12913",
   "metadata": {},
   "outputs": [],
   "source": [
    "l3 = []\n",
    "for a,b in zip(l1,l2):\n",
    "    l3.append((a,b))"
   ]
  },
  {
   "cell_type": "code",
   "execution_count": 4,
   "id": "b329340a",
   "metadata": {
    "scrolled": true
   },
   "outputs": [
    {
     "data": {
      "text/plain": [
       "[(1, 10), (2, 20), (3, 30), (4, 40), (5, 50)]"
      ]
     },
     "execution_count": 4,
     "metadata": {},
     "output_type": "execute_result"
    }
   ],
   "source": [
    "l3"
   ]
  },
  {
   "cell_type": "markdown",
   "id": "91e7e105",
   "metadata": {},
   "source": [
    "# 2. Reversing a list"
   ]
  },
  {
   "cell_type": "code",
   "execution_count": 5,
   "id": "809594a7",
   "metadata": {},
   "outputs": [
    {
     "data": {
      "text/plain": [
       "[5, 4, 3, 2, 1]"
      ]
     },
     "execution_count": 5,
     "metadata": {},
     "output_type": "execute_result"
    }
   ],
   "source": [
    "l1= [1,2,3,4,5]\n",
    "l1[::-1] "
   ]
  },
  {
   "cell_type": "code",
   "execution_count": 6,
   "id": "0c967b94",
   "metadata": {},
   "outputs": [
    {
     "data": {
      "text/plain": [
       "[5, 4, 3, 2, 1]"
      ]
     },
     "execution_count": 6,
     "metadata": {},
     "output_type": "execute_result"
    }
   ],
   "source": [
    "l1= [1,2,3,4,5]\n",
    "l1[-1::-1] # start from last index(-1) and follow in \\\n",
    "           # reverse order with -1 as step size"
   ]
  },
  {
   "cell_type": "markdown",
   "id": "6f4360f8",
   "metadata": {},
   "source": [
    "# 3. Slicing a list "
   ]
  },
  {
   "cell_type": "code",
   "execution_count": 7,
   "id": "3826f36b",
   "metadata": {},
   "outputs": [
    {
     "data": {
      "text/plain": [
       "[10, 20, 30, 40, 50, 60, 70, 80, 90]"
      ]
     },
     "execution_count": 7,
     "metadata": {},
     "output_type": "execute_result"
    }
   ],
   "source": [
    "l4 = list(range(10,100,10))\n",
    "l4"
   ]
  },
  {
   "cell_type": "code",
   "execution_count": 8,
   "id": "a6cfa82a",
   "metadata": {},
   "outputs": [],
   "source": [
    "myslice = slice(1,4) # Defining the slice to retrieve element 1,2 and 3"
   ]
  },
  {
   "cell_type": "code",
   "execution_count": 9,
   "id": "83ec828e",
   "metadata": {},
   "outputs": [
    {
     "data": {
      "text/plain": [
       "[20, 30, 40]"
      ]
     },
     "execution_count": 9,
     "metadata": {},
     "output_type": "execute_result"
    }
   ],
   "source": [
    "l4[myslice]"
   ]
  },
  {
   "cell_type": "markdown",
   "id": "992c2405",
   "metadata": {},
   "source": [
    "# 4. Create a list form a string"
   ]
  },
  {
   "cell_type": "code",
   "execution_count": 10,
   "id": "221dc561",
   "metadata": {},
   "outputs": [
    {
     "data": {
      "text/plain": [
       "['a', 'b', 'c', 'd', 'e']"
      ]
     },
     "execution_count": 10,
     "metadata": {},
     "output_type": "execute_result"
    }
   ],
   "source": [
    "mycharlist = list(\"abcde\") #can save a lot of typing \n",
    "mycharlist"
   ]
  },
  {
   "cell_type": "markdown",
   "id": "b1912537",
   "metadata": {},
   "source": [
    "# 4.1 Retreive indices of an array m"
   ]
  },
  {
   "cell_type": "code",
   "execution_count": 11,
   "id": "474f855c",
   "metadata": {},
   "outputs": [
    {
     "data": {
      "text/plain": [
       "[0, 1, 2, 3, 4, 5, 6, 7, 8]"
      ]
     },
     "execution_count": 11,
     "metadata": {},
     "output_type": "execute_result"
    }
   ],
   "source": [
    "l4 = list(range(10,100,10))\n",
    "list(range(len(l4)))"
   ]
  },
  {
   "cell_type": "markdown",
   "id": "472b9d95",
   "metadata": {},
   "source": [
    "# 5. Reversing a string "
   ]
  },
  {
   "cell_type": "code",
   "execution_count": 12,
   "id": "543f651e",
   "metadata": {},
   "outputs": [
    {
     "data": {
      "text/plain": [
       "'? uoy era woh olleh'"
      ]
     },
     "execution_count": 12,
     "metadata": {},
     "output_type": "execute_result"
    }
   ],
   "source": [
    "mystring = \"hello how are you ?\"\n",
    "my_reverse_string = mystring[::-1]\n",
    "my_reverse_string"
   ]
  },
  {
   "cell_type": "markdown",
   "id": "a3ee6bc9",
   "metadata": {},
   "source": [
    "# 6. Create a string from list"
   ]
  },
  {
   "cell_type": "code",
   "execution_count": 13,
   "id": "3e46e8eb",
   "metadata": {},
   "outputs": [
    {
     "data": {
      "text/plain": [
       "'Hello how are you ?'"
      ]
     },
     "execution_count": 13,
     "metadata": {},
     "output_type": "execute_result"
    }
   ],
   "source": [
    "mystr_list= [\"Hello\", \"how\", \"are\", \"you\", \"?\"]\n",
    "mysentence = \" \".join(mystr_list)\n",
    "mysentence"
   ]
  },
  {
   "cell_type": "markdown",
   "id": "5cc92faa",
   "metadata": {},
   "source": [
    "# 7. Return multiple values from function "
   ]
  },
  {
   "cell_type": "code",
   "execution_count": 14,
   "id": "2ba85e92",
   "metadata": {},
   "outputs": [
    {
     "name": "stdout",
     "output_type": "stream",
     "text": [
      "a b c d\n"
     ]
    }
   ],
   "source": [
    "def my_func():\n",
    "    return list('abcd')\n",
    "\n",
    "w,x,y,z = my_func()\n",
    "print(w,x,y,z)"
   ]
  },
  {
   "cell_type": "markdown",
   "id": "03df6e48",
   "metadata": {},
   "source": [
    "# 8. Ternary Operator for conditional assignment \n",
    "[on_true] if [expression] else [on_false]"
   ]
  },
  {
   "cell_type": "code",
   "execution_count": 15,
   "id": "98a79ee7",
   "metadata": {
    "scrolled": true
   },
   "outputs": [
    {
     "name": "stdout",
     "output_type": "stream",
     "text": [
      "['greater']\n"
     ]
    }
   ],
   "source": [
    "x = 11\n",
    "result = [\"greater\"] if [x > 10] else ['lesser']\n",
    "print( result )"
   ]
  },
  {
   "cell_type": "markdown",
   "id": "af625ef7",
   "metadata": {},
   "source": [
    "# 9. Dictionary comprehension "
   ]
  },
  {
   "cell_type": "code",
   "execution_count": 16,
   "id": "15b887d4",
   "metadata": {},
   "outputs": [
    {
     "data": {
      "text/plain": [
       "{0: 0, 1: 1, 2: 4, 3: 9, 4: 16, 5: 25, 6: 36, 7: 49, 8: 64, 9: 81}"
      ]
     },
     "execution_count": 16,
     "metadata": {},
     "output_type": "execute_result"
    }
   ],
   "source": [
    "testDict = {i: i * i for i in range(10)}\n",
    "testDict"
   ]
  },
  {
   "cell_type": "markdown",
   "id": "f180e2eb",
   "metadata": {},
   "source": [
    "# 10. Inspect an object in python"
   ]
  },
  {
   "cell_type": "code",
   "execution_count": 17,
   "id": "d8d156e4",
   "metadata": {},
   "outputs": [
    {
     "name": "stdout",
     "output_type": "stream",
     "text": [
      "['__add__', '__class__', '__contains__', '__delattr__', '__delitem__', '__dir__', '__doc__', '__eq__', '__format__', '__ge__', '__getattribute__', '__getitem__', '__gt__', '__hash__', '__iadd__', '__imul__', '__init__', '__init_subclass__', '__iter__', '__le__', '__len__', '__lt__', '__mul__', '__ne__', '__new__', '__reduce__', '__reduce_ex__', '__repr__', '__reversed__', '__rmul__', '__setattr__', '__setitem__', '__sizeof__', '__str__', '__subclasshook__', 'append', 'clear', 'copy', 'count', 'extend', 'index', 'insert', 'pop', 'remove', 'reverse', 'sort']\n"
     ]
    }
   ],
   "source": [
    "test = [0,1,2,3,4,5,6]\n",
    "print( dir(test) )"
   ]
  },
  {
   "cell_type": "code",
   "execution_count": null,
   "id": "bed99202",
   "metadata": {},
   "outputs": [],
   "source": []
  }
 ],
 "metadata": {
  "kernelspec": {
   "display_name": "Python 3",
   "language": "python",
   "name": "python3"
  },
  "language_info": {
   "codemirror_mode": {
    "name": "ipython",
    "version": 3
   },
   "file_extension": ".py",
   "mimetype": "text/x-python",
   "name": "python",
   "nbconvert_exporter": "python",
   "pygments_lexer": "ipython3",
   "version": "3.8.8"
  }
 },
 "nbformat": 4,
 "nbformat_minor": 5
}
