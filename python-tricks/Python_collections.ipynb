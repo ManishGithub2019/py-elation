{
 "cells": [
  {
   "cell_type": "markdown",
   "id": "3916978c",
   "metadata": {},
   "source": [
    "# Tuples\n",
    "- Orderes \n",
    "- Immutable\n",
    "- Iterable\n"
   ]
  },
  {
   "cell_type": "markdown",
   "id": "8bc09068",
   "metadata": {},
   "source": [
    "### Create a tuple "
   ]
  },
  {
   "cell_type": "code",
   "execution_count": 1,
   "id": "a50d33d7",
   "metadata": {},
   "outputs": [
    {
     "data": {
      "text/plain": [
       "tuple"
      ]
     },
     "execution_count": 1,
     "metadata": {},
     "output_type": "execute_result"
    }
   ],
   "source": [
    "my_tuple = (1,2,3,4,5)\n",
    "type(my_tuple)"
   ]
  },
  {
   "cell_type": "code",
   "execution_count": 2,
   "id": "c5d81f6e",
   "metadata": {},
   "outputs": [
    {
     "data": {
      "text/plain": [
       "tuple"
      ]
     },
     "execution_count": 2,
     "metadata": {},
     "output_type": "execute_result"
    }
   ],
   "source": [
    "my_tuple = 1,2,3,4,5\n",
    "type(my_tuple)"
   ]
  },
  {
   "cell_type": "markdown",
   "id": "9f734dcf",
   "metadata": {},
   "source": [
    "### Tuple built-in methods\n",
    "- indexing \n",
    "- length \n",
    "- count \n",
    "- index"
   ]
  },
  {
   "cell_type": "code",
   "execution_count": 3,
   "id": "6e39097e",
   "metadata": {},
   "outputs": [
    {
     "data": {
      "text/plain": [
       "3"
      ]
     },
     "execution_count": 3,
     "metadata": {},
     "output_type": "execute_result"
    }
   ],
   "source": [
    "my_tuple = (1,2,3,4,5,5)\n",
    "my_tuple[2] # indexing "
   ]
  },
  {
   "cell_type": "code",
   "execution_count": 4,
   "id": "f52b7166",
   "metadata": {},
   "outputs": [
    {
     "data": {
      "text/plain": [
       "6"
      ]
     },
     "execution_count": 4,
     "metadata": {},
     "output_type": "execute_result"
    }
   ],
   "source": [
    "len(my_tuple) # length "
   ]
  },
  {
   "cell_type": "code",
   "execution_count": 5,
   "id": "02a870dc",
   "metadata": {},
   "outputs": [
    {
     "data": {
      "text/plain": [
       "2"
      ]
     },
     "execution_count": 5,
     "metadata": {},
     "output_type": "execute_result"
    }
   ],
   "source": [
    "my_tuple.count(5) # returns t"
   ]
  },
  {
   "cell_type": "code",
   "execution_count": 6,
   "id": "d2446d59",
   "metadata": {},
   "outputs": [
    {
     "data": {
      "text/plain": [
       "3"
      ]
     },
     "execution_count": 6,
     "metadata": {},
     "output_type": "execute_result"
    }
   ],
   "source": [
    "my_tuple.index(4) # return index for a value "
   ]
  },
  {
   "cell_type": "markdown",
   "id": "f1800571",
   "metadata": {},
   "source": [
    "# Lists\n",
    "- mutable\n",
    "- ordered\n",
    "- iterable"
   ]
  },
  {
   "cell_type": "markdown",
   "id": "0ce9767c",
   "metadata": {},
   "source": [
    "### Create a list "
   ]
  },
  {
   "cell_type": "code",
   "execution_count": 7,
   "id": "70479339",
   "metadata": {},
   "outputs": [
    {
     "data": {
      "text/plain": [
       "list"
      ]
     },
     "execution_count": 7,
     "metadata": {},
     "output_type": "execute_result"
    }
   ],
   "source": [
    "my_list = [1,2,'a','mylist',5]\n",
    "type(my_list)"
   ]
  },
  {
   "cell_type": "markdown",
   "id": "96d70e99",
   "metadata": {},
   "source": [
    "### List built-in methods \n",
    "- index\n",
    "- length\n",
    "- append() and insert()\n",
    "- pop() and remove()\n",
    "- reverse() and sort()"
   ]
  },
  {
   "cell_type": "code",
   "execution_count": 8,
   "id": "36170f6b",
   "metadata": {},
   "outputs": [
    {
     "data": {
      "text/plain": [
       "'a'"
      ]
     },
     "execution_count": 8,
     "metadata": {},
     "output_type": "execute_result"
    }
   ],
   "source": [
    "my_list[2]"
   ]
  },
  {
   "cell_type": "code",
   "execution_count": 9,
   "id": "2335cc07",
   "metadata": {},
   "outputs": [
    {
     "data": {
      "text/plain": [
       "5"
      ]
     },
     "execution_count": 9,
     "metadata": {},
     "output_type": "execute_result"
    }
   ],
   "source": [
    "len(my_list)"
   ]
  },
  {
   "cell_type": "code",
   "execution_count": 10,
   "id": "ce348a6c",
   "metadata": {},
   "outputs": [
    {
     "data": {
      "text/plain": [
       "[1, 2, 'a', 'mylist', 5, 'newitem']"
      ]
     },
     "execution_count": 10,
     "metadata": {},
     "output_type": "execute_result"
    }
   ],
   "source": [
    "my_list.append(\"newitem\")\n",
    "my_list"
   ]
  },
  {
   "cell_type": "code",
   "execution_count": 11,
   "id": "942b1ab2",
   "metadata": {},
   "outputs": [
    {
     "data": {
      "text/plain": [
       "[1, 2, 'a', 'new_insert', 'mylist', 5, 'newitem']"
      ]
     },
     "execution_count": 11,
     "metadata": {},
     "output_type": "execute_result"
    }
   ],
   "source": [
    "my_list.insert(3,\"new_insert\")\n",
    "my_list"
   ]
  },
  {
   "cell_type": "code",
   "execution_count": 12,
   "id": "85b15671",
   "metadata": {},
   "outputs": [
    {
     "data": {
      "text/plain": [
       "'newitem'"
      ]
     },
     "execution_count": 12,
     "metadata": {},
     "output_type": "execute_result"
    }
   ],
   "source": [
    "my_list.pop()"
   ]
  },
  {
   "cell_type": "code",
   "execution_count": 13,
   "id": "3b18862b",
   "metadata": {},
   "outputs": [
    {
     "data": {
      "text/plain": [
       "[1, 2, 'a', 'new_insert', 'mylist', 5]"
      ]
     },
     "execution_count": 13,
     "metadata": {},
     "output_type": "execute_result"
    }
   ],
   "source": [
    "my_list"
   ]
  },
  {
   "cell_type": "code",
   "execution_count": 14,
   "id": "e7c7b51b",
   "metadata": {},
   "outputs": [],
   "source": [
    "my_list.remove('new_insert')"
   ]
  },
  {
   "cell_type": "code",
   "execution_count": 15,
   "id": "807cb6fc",
   "metadata": {},
   "outputs": [
    {
     "data": {
      "text/plain": [
       "[1, 2, 'a', 'mylist', 5]"
      ]
     },
     "execution_count": 15,
     "metadata": {},
     "output_type": "execute_result"
    }
   ],
   "source": [
    "my_list"
   ]
  },
  {
   "cell_type": "code",
   "execution_count": 16,
   "id": "ffe25ecf",
   "metadata": {},
   "outputs": [
    {
     "data": {
      "text/plain": [
       "[5, 'mylist', 'a', 2, 1]"
      ]
     },
     "execution_count": 16,
     "metadata": {},
     "output_type": "execute_result"
    }
   ],
   "source": [
    "my_list.reverse()\n",
    "my_list"
   ]
  },
  {
   "cell_type": "code",
   "execution_count": 17,
   "id": "d2eed697",
   "metadata": {},
   "outputs": [
    {
     "data": {
      "text/plain": [
       "[10, 5, 25, 20, 15]"
      ]
     },
     "execution_count": 17,
     "metadata": {},
     "output_type": "execute_result"
    }
   ],
   "source": [
    "my_new_list = list((10,5,25,20,15)) #creating a list from tuple \n",
    "my_new_list"
   ]
  },
  {
   "cell_type": "code",
   "execution_count": 18,
   "id": "2f938d95",
   "metadata": {},
   "outputs": [
    {
     "data": {
      "text/plain": [
       "[5, 10, 15, 20, 25]"
      ]
     },
     "execution_count": 18,
     "metadata": {},
     "output_type": "execute_result"
    }
   ],
   "source": [
    "my_new_list.sort()\n",
    "my_new_list"
   ]
  },
  {
   "cell_type": "markdown",
   "id": "a9d6b63e",
   "metadata": {},
   "source": [
    "# Dictionaries \n",
    "- key value pairs\n",
    "- mutable \n",
    "- iterable(over keys, values, key-vale pairs)\n",
    "* As of python 3.7 key orderd is preserved"
   ]
  },
  {
   "cell_type": "markdown",
   "id": "0a3d5ca0",
   "metadata": {},
   "source": [
    "### Create a dictionary"
   ]
  },
  {
   "cell_type": "code",
   "execution_count": 19,
   "id": "d30f24c5",
   "metadata": {},
   "outputs": [
    {
     "data": {
      "text/plain": [
       "dict"
      ]
     },
     "execution_count": 19,
     "metadata": {},
     "output_type": "execute_result"
    }
   ],
   "source": [
    "bday_party = {'cake': 'vanilla', 'guest': 'kids', 'location':'park'}\n",
    "type(bday_party)"
   ]
  },
  {
   "cell_type": "markdown",
   "id": "edeb46ea",
   "metadata": {},
   "source": [
    "### Dictionary builtin types\n",
    "- access a value using key \n",
    "- .keys(), .values(), .items() method\n",
    "- pop() or del\n"
   ]
  },
  {
   "cell_type": "code",
   "execution_count": 20,
   "id": "1e730912",
   "metadata": {},
   "outputs": [
    {
     "data": {
      "text/plain": [
       "'park'"
      ]
     },
     "execution_count": 20,
     "metadata": {},
     "output_type": "execute_result"
    }
   ],
   "source": [
    "bday_party['location']"
   ]
  },
  {
   "cell_type": "code",
   "execution_count": 21,
   "id": "da0c1c76",
   "metadata": {},
   "outputs": [
    {
     "data": {
      "text/plain": [
       "dict_keys(['cake', 'guest', 'location'])"
      ]
     },
     "execution_count": 21,
     "metadata": {},
     "output_type": "execute_result"
    }
   ],
   "source": [
    "bday_party.keys()"
   ]
  },
  {
   "cell_type": "code",
   "execution_count": 22,
   "id": "fa4e700a",
   "metadata": {},
   "outputs": [
    {
     "data": {
      "text/plain": [
       "dict_values(['vanilla', 'kids', 'park'])"
      ]
     },
     "execution_count": 22,
     "metadata": {},
     "output_type": "execute_result"
    }
   ],
   "source": [
    "bday_party.values()"
   ]
  },
  {
   "cell_type": "code",
   "execution_count": 23,
   "id": "d9b944f4",
   "metadata": {},
   "outputs": [
    {
     "data": {
      "text/plain": [
       "dict_items([('cake', 'vanilla'), ('guest', 'kids'), ('location', 'park')])"
      ]
     },
     "execution_count": 23,
     "metadata": {},
     "output_type": "execute_result"
    }
   ],
   "source": [
    "bday_party.items()"
   ]
  },
  {
   "cell_type": "code",
   "execution_count": 24,
   "id": "7a94da71",
   "metadata": {},
   "outputs": [
    {
     "data": {
      "text/plain": [
       "dict_items([('cake', 'vanilla'), ('guest', 'kids')])"
      ]
     },
     "execution_count": 24,
     "metadata": {},
     "output_type": "execute_result"
    }
   ],
   "source": [
    "bday_party.pop('location')\n",
    "bday_party.items()"
   ]
  },
  {
   "cell_type": "code",
   "execution_count": 25,
   "id": "79c942a5",
   "metadata": {},
   "outputs": [
    {
     "data": {
      "text/plain": [
       "dict_items([('cake', 'vanilla'), ('guest', 'kids'), ('location', 'park')])"
      ]
     },
     "execution_count": 25,
     "metadata": {},
     "output_type": "execute_result"
    }
   ],
   "source": [
    "bday_party['location'] = 'park'\n",
    "bday_party.items()"
   ]
  },
  {
   "cell_type": "code",
   "execution_count": 26,
   "id": "d5a0f31a",
   "metadata": {},
   "outputs": [
    {
     "data": {
      "text/plain": [
       "dict_items([('cake', 'vanilla'), ('guest', 'kids')])"
      ]
     },
     "execution_count": 26,
     "metadata": {},
     "output_type": "execute_result"
    }
   ],
   "source": [
    "del bday_party['location']\n",
    "bday_party.items()"
   ]
  },
  {
   "cell_type": "markdown",
   "id": "6809d1cc",
   "metadata": {},
   "source": [
    "# Sets\n",
    "- mutable\n",
    "- unordered\n",
    "- iterable\n",
    "- unordered"
   ]
  },
  {
   "cell_type": "code",
   "execution_count": 27,
   "id": "cca67170",
   "metadata": {},
   "outputs": [
    {
     "data": {
      "text/plain": [
       "set"
      ]
     },
     "execution_count": 27,
     "metadata": {},
     "output_type": "execute_result"
    }
   ],
   "source": [
    "my_set = {1, 2, 'a', 'new_insert', 'mylist', 5}\n",
    "type(my_set)"
   ]
  },
  {
   "cell_type": "markdown",
   "id": "2d0459af",
   "metadata": {},
   "source": [
    "### Sets built-in methods \n",
    "- add() and update()\n",
    "- remove()\n",
    "- intersection() and difference()"
   ]
  },
  {
   "cell_type": "code",
   "execution_count": 28,
   "id": "a5c4cf0c",
   "metadata": {
    "scrolled": true
   },
   "outputs": [
    {
     "data": {
      "text/plain": [
       "{1, 2, 5, 'a', 'add_new_items', 'mylist', 'new_insert'}"
      ]
     },
     "execution_count": 28,
     "metadata": {},
     "output_type": "execute_result"
    }
   ],
   "source": [
    "my_set.add(\"add_new_items\")\n",
    "my_set"
   ]
  },
  {
   "cell_type": "code",
   "execution_count": 29,
   "id": "7be605b3",
   "metadata": {},
   "outputs": [],
   "source": [
    "another_set = {10,20,1}"
   ]
  },
  {
   "cell_type": "code",
   "execution_count": 30,
   "id": "171676be",
   "metadata": {},
   "outputs": [
    {
     "data": {
      "text/plain": [
       "{1, 10, 2, 20, 5, 'a', 'add_new_items', 'mylist', 'new_insert'}"
      ]
     },
     "execution_count": 30,
     "metadata": {},
     "output_type": "execute_result"
    }
   ],
   "source": [
    "my_set.update(another_set)\n",
    "my_set"
   ]
  },
  {
   "cell_type": "code",
   "execution_count": 31,
   "id": "fb13a6f4",
   "metadata": {},
   "outputs": [
    {
     "data": {
      "text/plain": [
       "{1, 10, 2, 20, 5, 'a', 'mylist', 'new_insert'}"
      ]
     },
     "execution_count": 31,
     "metadata": {},
     "output_type": "execute_result"
    }
   ],
   "source": [
    "my_set.remove('add_new_items')\n",
    "my_set"
   ]
  },
  {
   "cell_type": "code",
   "execution_count": 32,
   "id": "6c610c89",
   "metadata": {},
   "outputs": [
    {
     "data": {
      "text/plain": [
       "{5}"
      ]
     },
     "execution_count": 32,
     "metadata": {},
     "output_type": "execute_result"
    }
   ],
   "source": [
    "my_set2 = {1,2,3,4,5}\n",
    "my_set3 = {5,6,7,8,9}\n",
    "my_set2.intersection(my_set3)"
   ]
  },
  {
   "cell_type": "code",
   "execution_count": 33,
   "id": "5a17ed5d",
   "metadata": {},
   "outputs": [
    {
     "data": {
      "text/plain": [
       "{1, 2, 3, 4}"
      ]
     },
     "execution_count": 33,
     "metadata": {},
     "output_type": "execute_result"
    }
   ],
   "source": [
    "my_set2.difference(my_set3)"
   ]
  },
  {
   "cell_type": "code",
   "execution_count": 34,
   "id": "d593509e",
   "metadata": {},
   "outputs": [
    {
     "data": {
      "text/plain": [
       "{6, 7, 8, 9}"
      ]
     },
     "execution_count": 34,
     "metadata": {},
     "output_type": "execute_result"
    }
   ],
   "source": [
    "my_set3.difference(my_set2)"
   ]
  },
  {
   "cell_type": "code",
   "execution_count": null,
   "id": "260bd556",
   "metadata": {},
   "outputs": [],
   "source": []
  }
 ],
 "metadata": {
  "kernelspec": {
   "display_name": "Python 3",
   "language": "python",
   "name": "python3"
  },
  "language_info": {
   "codemirror_mode": {
    "name": "ipython",
    "version": 3
   },
   "file_extension": ".py",
   "mimetype": "text/x-python",
   "name": "python",
   "nbconvert_exporter": "python",
   "pygments_lexer": "ipython3",
   "version": "3.8.8"
  }
 },
 "nbformat": 4,
 "nbformat_minor": 5
}
