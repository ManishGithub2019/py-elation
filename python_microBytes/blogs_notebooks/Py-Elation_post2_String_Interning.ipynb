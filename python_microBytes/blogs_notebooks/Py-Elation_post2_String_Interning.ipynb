{
 "cells": [
  {
   "cell_type": "markdown",
   "metadata": {},
   "source": [
    "### 'is' operator in python, it compares the memory address of the objects and not the value "
   ]
  },
  {
   "cell_type": "code",
   "execution_count": 176,
   "metadata": {},
   "outputs": [],
   "source": [
    "var1 = 20\n",
    "var2 = 20 "
   ]
  },
  {
   "cell_type": "code",
   "execution_count": 177,
   "metadata": {
    "scrolled": true
   },
   "outputs": [
    {
     "name": "stdout",
     "output_type": "stream",
     "text": [
      "0x7ffdd2ce3980\n",
      "0x7ffdd2ce3980\n"
     ]
    }
   ],
   "source": [
    "print(hex(id(var1)))\n",
    "print(hex(id(var2)))"
   ]
  },
  {
   "cell_type": "code",
   "execution_count": 178,
   "metadata": {},
   "outputs": [
    {
     "name": "stdout",
     "output_type": "stream",
     "text": [
      "True\n"
     ]
    }
   ],
   "source": [
    "print( var1 is var2)"
   ]
  },
  {
   "cell_type": "code",
   "execution_count": 179,
   "metadata": {},
   "outputs": [],
   "source": [
    "var1 = 257\n",
    "var2 = 257"
   ]
  },
  {
   "cell_type": "code",
   "execution_count": 180,
   "metadata": {},
   "outputs": [
    {
     "name": "stdout",
     "output_type": "stream",
     "text": [
      "0x241f72ba730\n",
      "0x241f72ba830\n"
     ]
    }
   ],
   "source": [
    "print(hex(id(var1)))\n",
    "print(hex(id(var2)))"
   ]
  },
  {
   "cell_type": "code",
   "execution_count": 181,
   "metadata": {},
   "outputs": [
    {
     "name": "stdout",
     "output_type": "stream",
     "text": [
      "False\n"
     ]
    }
   ],
   "source": [
    "print( var1 is var2)"
   ]
  },
  {
   "cell_type": "markdown",
   "metadata": {},
   "source": [
    "### String interning in Python"
   ]
  },
  {
   "cell_type": "code",
   "execution_count": 197,
   "metadata": {},
   "outputs": [],
   "source": [
    "a = \"Hello_World\"\n",
    "b = \"Hello_World\""
   ]
  },
  {
   "cell_type": "code",
   "execution_count": 198,
   "metadata": {},
   "outputs": [
    {
     "name": "stdout",
     "output_type": "stream",
     "text": [
      "True\n"
     ]
    }
   ],
   "source": [
    "print( a is b)"
   ]
  },
  {
   "cell_type": "code",
   "execution_count": 199,
   "metadata": {},
   "outputs": [
    {
     "name": "stdout",
     "output_type": "stream",
     "text": [
      "Memory address for a 0x241f6f2d3f0\n",
      "Memory address for b 0x241f6f2d3f0\n",
      "True\n"
     ]
    }
   ],
   "source": [
    "print(\"Memory address for a {0}\".format(hex(id(a))))\n",
    "print(\"Memory address for b {0}\".format(hex(id(b))))\n",
    "print(hex(id(a)) == hex(id(b)))"
   ]
  },
  {
   "cell_type": "markdown",
   "metadata": {},
   "source": [
    "### String interning in Python, you cannot count on it "
   ]
  },
  {
   "cell_type": "code",
   "execution_count": 203,
   "metadata": {},
   "outputs": [],
   "source": [
    "a = 'Hello World'\n",
    "b = 'Hello World'"
   ]
  },
  {
   "cell_type": "code",
   "execution_count": 204,
   "metadata": {},
   "outputs": [
    {
     "name": "stdout",
     "output_type": "stream",
     "text": [
      "False\n"
     ]
    }
   ],
   "source": [
    "print(a is b)"
   ]
  },
  {
   "cell_type": "code",
   "execution_count": 205,
   "metadata": {},
   "outputs": [
    {
     "name": "stdout",
     "output_type": "stream",
     "text": [
      "Memory address for a 0x241f6fdf330\n",
      "Memory address for b 0x241f6fdf370\n",
      "False\n"
     ]
    }
   ],
   "source": [
    "print(\"Memory address for a {0}\".format(hex(id(a))))\n",
    "print(\"Memory address for b {0}\".format(hex(id(b))))\n",
    "print(hex(id(a)) == hex(id(b)))"
   ]
  },
  {
   "cell_type": "code",
   "execution_count": null,
   "metadata": {},
   "outputs": [],
   "source": []
  },
  {
   "cell_type": "markdown",
   "metadata": {},
   "source": [
    "### Explicit interning "
   ]
  },
  {
   "cell_type": "code",
   "execution_count": 207,
   "metadata": {},
   "outputs": [],
   "source": [
    "import sys \n",
    "a = sys.intern('Hello World')\n",
    "b = sys.intern('Hello World')"
   ]
  },
  {
   "cell_type": "code",
   "execution_count": 208,
   "metadata": {},
   "outputs": [
    {
     "name": "stdout",
     "output_type": "stream",
     "text": [
      "True\n"
     ]
    }
   ],
   "source": [
    "print(a is b)"
   ]
  },
  {
   "cell_type": "code",
   "execution_count": 209,
   "metadata": {},
   "outputs": [
    {
     "name": "stdout",
     "output_type": "stream",
     "text": [
      "Memory address for a 0x241f6f35630\n",
      "Memory address for b 0x241f6f35630\n",
      "True\n"
     ]
    }
   ],
   "source": [
    "print(\"Memory address for a {0}\".format(hex(id(a))))\n",
    "print(\"Memory address for b {0}\".format(hex(id(b))))\n",
    "print(hex(id(a)) == hex(id(b)))"
   ]
  },
  {
   "cell_type": "code",
   "execution_count": null,
   "metadata": {},
   "outputs": [],
   "source": []
  },
  {
   "cell_type": "markdown",
   "metadata": {},
   "source": [
    "### Comparing python string using == Vs is operator \n",
    "Define 2 functions\n",
    "1) First function with == operator \n",
    "2) Second function with explicit intern and is operator "
   ]
  },
  {
   "cell_type": "code",
   "execution_count": 229,
   "metadata": {},
   "outputs": [],
   "source": [
    "def equal_operator(n #number of times the comparison is repeated\n",
    "                    ):\n",
    "    a = ' define a long string, our machines are very fast'*200\n",
    "    b = ' define a long string, our machines are very fast'*200\n",
    "    for i in range(n):\n",
    "        if a == b:\n",
    "            pass                   "
   ]
  },
  {
   "cell_type": "code",
   "execution_count": 230,
   "metadata": {},
   "outputs": [],
   "source": [
    "import sys\n",
    "def string_interns(n #number of times the comparison is repeated\n",
    "                    ):\n",
    "    a = sys.intern(' define a long string, our machines are very fast'*200)\n",
    "    b = sys.intern(' define a long string, our machines are very fast'*200)\n",
    "    for i in range(n):\n",
    "        if a is b:\n",
    "            pass"
   ]
  },
  {
   "cell_type": "code",
   "execution_count": 231,
   "metadata": {},
   "outputs": [],
   "source": [
    "import time"
   ]
  },
  {
   "cell_type": "code",
   "execution_count": 232,
   "metadata": {},
   "outputs": [
    {
     "name": "stdout",
     "output_type": "stream",
     "text": [
      "Time taken with == Operator  :3.905634700000519\n"
     ]
    }
   ],
   "source": [
    "t0 = time.perf_counter()\n",
    "equal_operator(10000000)\n",
    "t1 = time.perf_counter()\n",
    "print(\"Time taken with == Operator  :{}\".format(t1-t0))"
   ]
  },
  {
   "cell_type": "code",
   "execution_count": 233,
   "metadata": {},
   "outputs": [
    {
     "name": "stdout",
     "output_type": "stream",
     "text": [
      "Time taken with is Operator  :0.42605840001488104\n"
     ]
    }
   ],
   "source": [
    "t0 = time.perf_counter()\n",
    "string_interns(10000000)\n",
    "t1 = time.perf_counter()\n",
    "print(\"Time taken with is Operator  :{}\".format(t1-t0))"
   ]
  },
  {
   "cell_type": "markdown",
   "metadata": {},
   "source": [
    "### Example with String interned at compiled time "
   ]
  },
  {
   "cell_type": "code",
   "execution_count": 260,
   "metadata": {},
   "outputs": [],
   "source": [
    "str1 = 'abc'*5\n",
    "str2 = 'abcabcabcabcabc'"
   ]
  },
  {
   "cell_type": "code",
   "execution_count": 261,
   "metadata": {},
   "outputs": [
    {
     "data": {
      "text/plain": [
       "True"
      ]
     },
     "execution_count": 261,
     "metadata": {},
     "output_type": "execute_result"
    }
   ],
   "source": [
    "str1 is str2"
   ]
  },
  {
   "cell_type": "markdown",
   "metadata": {},
   "source": [
    "### Example where string are NOT interned "
   ]
  },
  {
   "cell_type": "code",
   "execution_count": 262,
   "metadata": {},
   "outputs": [],
   "source": [
    "str_base = 'abc'"
   ]
  },
  {
   "cell_type": "code",
   "execution_count": 263,
   "metadata": {},
   "outputs": [],
   "source": [
    "str1 = 'abcabcabcabc'"
   ]
  },
  {
   "cell_type": "code",
   "execution_count": 264,
   "metadata": {},
   "outputs": [],
   "source": [
    "str2 = str_base + str_base  +str_base  +str_base "
   ]
  },
  {
   "cell_type": "code",
   "execution_count": 266,
   "metadata": {},
   "outputs": [
    {
     "name": "stdout",
     "output_type": "stream",
     "text": [
      "str1 :abcabcabcabc is stored at address 2482340286832\n",
      "str2 :abcabcabcabc is stored at address 2482340297968\n"
     ]
    }
   ],
   "source": [
    "print(\"str1 :{} is stored at address {}\".format(str1,id(str1)))\n",
    "print(\"str2 :{} is stored at address {}\".format(str2,id(str2)))"
   ]
  },
  {
   "cell_type": "code",
   "execution_count": 267,
   "metadata": {},
   "outputs": [
    {
     "data": {
      "text/plain": [
       "False"
      ]
     },
     "execution_count": 267,
     "metadata": {},
     "output_type": "execute_result"
    }
   ],
   "source": [
    "str1 is str2"
   ]
  },
  {
   "cell_type": "code",
   "execution_count": 268,
   "metadata": {},
   "outputs": [
    {
     "data": {
      "text/plain": [
       "True"
      ]
     },
     "execution_count": 268,
     "metadata": {},
     "output_type": "execute_result"
    }
   ],
   "source": [
    "str1 == str2"
   ]
  },
  {
   "cell_type": "code",
   "execution_count": null,
   "metadata": {},
   "outputs": [],
   "source": []
  }
 ],
 "metadata": {
  "kernelspec": {
   "display_name": "Python 3",
   "language": "python",
   "name": "python3"
  },
  "language_info": {
   "codemirror_mode": {
    "name": "ipython",
    "version": 3
   },
   "file_extension": ".py",
   "mimetype": "text/x-python",
   "name": "python",
   "nbconvert_exporter": "python",
   "pygments_lexer": "ipython3",
   "version": "3.8.3"
  }
 },
 "nbformat": 4,
 "nbformat_minor": 4
}
