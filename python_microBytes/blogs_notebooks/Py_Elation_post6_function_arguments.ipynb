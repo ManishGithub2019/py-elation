{
 "cells": [
  {
   "cell_type": "markdown",
   "id": "7bfab077",
   "metadata": {},
   "source": [
    "### Functions (Arguments, Parameters & passing by reference)"
   ]
  },
  {
   "cell_type": "code",
   "execution_count": 1,
   "id": "160ab393",
   "metadata": {},
   "outputs": [],
   "source": [
    "def fn(a,b):\n",
    "    print( \"a {0}, b {1}\".format(a,b))    "
   ]
  },
  {
   "cell_type": "code",
   "execution_count": 2,
   "id": "f883c924",
   "metadata": {},
   "outputs": [
    {
     "name": "stdout",
     "output_type": "stream",
     "text": [
      "a 10, b 10\n"
     ]
    }
   ],
   "source": [
    "x = 10\n",
    "y = 10\n",
    "fn(x, y)"
   ]
  },
  {
   "cell_type": "code",
   "execution_count": 3,
   "id": "de754aa0",
   "metadata": {},
   "outputs": [],
   "source": [
    "def fn1(a):\n",
    "    print( \"ID of \\\"a\\\" inside function {}\".format(id(a)))\n",
    "    print( \"a :{0} \".format(a))"
   ]
  },
  {
   "cell_type": "code",
   "execution_count": 4,
   "id": "9f8f6b4b",
   "metadata": {},
   "outputs": [
    {
     "name": "stdout",
     "output_type": "stream",
     "text": [
      "ID of \"x\" inside function 140732010408016\n"
     ]
    }
   ],
   "source": [
    "x = 10\n",
    "print( \"ID of \\\"x\\\" inside function {}\".format(id(x)))"
   ]
  },
  {
   "cell_type": "code",
   "execution_count": 5,
   "id": "e4ddc26f",
   "metadata": {},
   "outputs": [
    {
     "name": "stdout",
     "output_type": "stream",
     "text": [
      "ID of \"a\" inside function 140732010408016\n",
      "a :10 \n"
     ]
    }
   ],
   "source": [
    "fn1(x)"
   ]
  },
  {
   "cell_type": "code",
   "execution_count": null,
   "id": "62267351",
   "metadata": {},
   "outputs": [],
   "source": []
  },
  {
   "cell_type": "markdown",
   "id": "391d717c",
   "metadata": {},
   "source": [
    "### Positional arguments"
   ]
  },
  {
   "cell_type": "code",
   "execution_count": 6,
   "id": "800ccea2",
   "metadata": {},
   "outputs": [],
   "source": [
    "### Assigning arguments to prameters via the order they are passed "
   ]
  },
  {
   "cell_type": "code",
   "execution_count": 7,
   "id": "f3fbb7be",
   "metadata": {},
   "outputs": [],
   "source": [
    "def u_profile(name, age):\n",
    "    print(f\"Name : {name} , Age : {age}\")"
   ]
  },
  {
   "cell_type": "code",
   "execution_count": 9,
   "id": "a86a58aa",
   "metadata": {},
   "outputs": [
    {
     "name": "stdout",
     "output_type": "stream",
     "text": [
      "Name : Manish , Age : 40\n"
     ]
    }
   ],
   "source": [
    "x = 'Manish'\n",
    "y = \"40\"\n",
    "u_profile(x,y)"
   ]
  },
  {
   "cell_type": "code",
   "execution_count": 10,
   "id": "fbd1b5d8",
   "metadata": {
    "scrolled": true
   },
   "outputs": [
    {
     "name": "stdout",
     "output_type": "stream",
     "text": [
      "Name : 40 , Age : Manish\n"
     ]
    }
   ],
   "source": [
    "u_profile(y,x)"
   ]
  },
  {
   "cell_type": "code",
   "execution_count": null,
   "id": "bd736780",
   "metadata": {},
   "outputs": [],
   "source": []
  },
  {
   "cell_type": "code",
   "execution_count": null,
   "id": "5ef57af4",
   "metadata": {},
   "outputs": [],
   "source": [
    "### Default value for parameter"
   ]
  },
  {
   "cell_type": "code",
   "execution_count": 12,
   "id": "9c51ea57",
   "metadata": {},
   "outputs": [],
   "source": [
    "def u_profile(name, age):\n",
    "    print(f\"Name : {name} , Age : {age}\")"
   ]
  },
  {
   "cell_type": "code",
   "execution_count": 13,
   "id": "8390a0f3",
   "metadata": {},
   "outputs": [
    {
     "ename": "TypeError",
     "evalue": "u_profile() missing 1 required positional argument: 'age'",
     "output_type": "error",
     "traceback": [
      "\u001b[1;31m---------------------------------------------------------------------------\u001b[0m",
      "\u001b[1;31mTypeError\u001b[0m                                 Traceback (most recent call last)",
      "\u001b[1;32m<ipython-input-13-9da6602900d3>\u001b[0m in \u001b[0;36m<module>\u001b[1;34m\u001b[0m\n\u001b[0;32m      1\u001b[0m \u001b[0mx\u001b[0m \u001b[1;33m=\u001b[0m \u001b[1;34m'Manish'\u001b[0m\u001b[1;33m\u001b[0m\u001b[1;33m\u001b[0m\u001b[0m\n\u001b[0;32m      2\u001b[0m \u001b[1;31m### Age is not passed while calling the function\u001b[0m\u001b[1;33m\u001b[0m\u001b[1;33m\u001b[0m\u001b[1;33m\u001b[0m\u001b[0m\n\u001b[1;32m----> 3\u001b[1;33m \u001b[0mu_profile\u001b[0m\u001b[1;33m(\u001b[0m\u001b[0mx\u001b[0m\u001b[1;33m)\u001b[0m\u001b[1;33m\u001b[0m\u001b[1;33m\u001b[0m\u001b[0m\n\u001b[0m",
      "\u001b[1;31mTypeError\u001b[0m: u_profile() missing 1 required positional argument: 'age'"
     ]
    }
   ],
   "source": [
    "x = 'Manish'\n",
    "### Age is not passed while calling the function\n",
    "u_profile(x)"
   ]
  },
  {
   "cell_type": "code",
   "execution_count": 15,
   "id": "2555d393",
   "metadata": {},
   "outputs": [],
   "source": [
    "def u_profile(name, age: \"with default value\" = 100):\n",
    "    print(f\"Name : {name} , Age : {age}\")"
   ]
  },
  {
   "cell_type": "code",
   "execution_count": 16,
   "id": "44256098",
   "metadata": {},
   "outputs": [
    {
     "name": "stdout",
     "output_type": "stream",
     "text": [
      "Name : Manish , Age : 100\n"
     ]
    }
   ],
   "source": [
    "### Age is not passed while calling the function but the function has default \n",
    "### parametr defined\n",
    "u_profile(x)"
   ]
  },
  {
   "cell_type": "code",
   "execution_count": null,
   "id": "9c6a517c",
   "metadata": {},
   "outputs": [],
   "source": []
  },
  {
   "cell_type": "code",
   "execution_count": 17,
   "id": "bb1f7588",
   "metadata": {},
   "outputs": [],
   "source": [
    "### Brain Twister, why does this function does not work ?"
   ]
  },
  {
   "cell_type": "code",
   "execution_count": 19,
   "id": "c155a32a",
   "metadata": {},
   "outputs": [
    {
     "ename": "SyntaxError",
     "evalue": "non-default argument follows default argument (<ipython-input-19-7cedd95045f7>, line 1)",
     "output_type": "error",
     "traceback": [
      "\u001b[1;36m  File \u001b[1;32m\"<ipython-input-19-7cedd95045f7>\"\u001b[1;36m, line \u001b[1;32m1\u001b[0m\n\u001b[1;33m    def u_profile(name, age=100, pin_code):\u001b[0m\n\u001b[1;37m                  ^\u001b[0m\n\u001b[1;31mSyntaxError\u001b[0m\u001b[1;31m:\u001b[0m non-default argument follows default argument\n"
     ]
    }
   ],
   "source": [
    "def u_profile(name, street_num=1012, pin_code):\n",
    "    print(f\"Name : {name} , Street_Num : {street_num},\\\n",
    "    PinCode: {pin_code_code} \")"
   ]
  },
  {
   "cell_type": "markdown",
   "id": "728bcc21",
   "metadata": {},
   "source": [
    "### THE RULE: If a default parameter is defined every positional argument after it must have a defualt value. Why ? Say the function definition worked and when the program calls the function with 2 arguments \n",
    "u_profile( \"Manish\" ,10156)\n",
    "In this case 10156 could be either be street_num or pin_code ? its ambiguous  got it 👍"
   ]
  },
  {
   "cell_type": "code",
   "execution_count": 24,
   "id": "34d6cf69",
   "metadata": {},
   "outputs": [],
   "source": [
    "def u_profile(name, street_num=1012, pin_code=10425):\n",
    "    print(f\"Name : {name} , Street_Num : {street_num}, PinCode: {pin_code} \")"
   ]
  },
  {
   "cell_type": "code",
   "execution_count": 25,
   "id": "8c60299a",
   "metadata": {
    "scrolled": true
   },
   "outputs": [
    {
     "name": "stdout",
     "output_type": "stream",
     "text": [
      "Name : manish , Street_Num : 1234, PinCode: 10425 \n"
     ]
    }
   ],
   "source": [
    "u_profile(\"manish\",1234) # only 1st and second argument supplied"
   ]
  },
  {
   "cell_type": "code",
   "execution_count": 27,
   "id": "55aa85e7",
   "metadata": {},
   "outputs": [
    {
     "name": "stdout",
     "output_type": "stream",
     "text": [
      "Name : manish , Street_Num : 1234, PinCode: 56048 \n"
     ]
    }
   ],
   "source": [
    "u_profile(\"manish\",1234,56048) # All 3 arguments supplied"
   ]
  },
  {
   "cell_type": "code",
   "execution_count": null,
   "id": "76be6aaa",
   "metadata": {},
   "outputs": [],
   "source": []
  },
  {
   "cell_type": "markdown",
   "id": "a3a3f7e4",
   "metadata": {},
   "source": [
    "### How do we supply only 1st and 3rd argument 🤔"
   ]
  },
  {
   "cell_type": "code",
   "execution_count": 29,
   "id": "e7481534",
   "metadata": {
    "scrolled": true
   },
   "outputs": [
    {
     "ename": "SyntaxError",
     "evalue": "invalid syntax (<ipython-input-29-f3470ed81a75>, line 1)",
     "output_type": "error",
     "traceback": [
      "\u001b[1;36m  File \u001b[1;32m\"<ipython-input-29-f3470ed81a75>\"\u001b[1;36m, line \u001b[1;32m1\u001b[0m\n\u001b[1;33m    u_profile(\"manish\",,56048) # 1st and 3rd argument supplied\u001b[0m\n\u001b[1;37m                       ^\u001b[0m\n\u001b[1;31mSyntaxError\u001b[0m\u001b[1;31m:\u001b[0m invalid syntax\n"
     ]
    }
   ],
   "source": [
    "u_profile(\"manish\",,56048) # 1st and 3rd argument supplied"
   ]
  },
  {
   "cell_type": "markdown",
   "id": "be6c5ff0",
   "metadata": {},
   "source": [
    "### So how do we do this ? We have to use \"Keyword Arguments\" OR \"Named Arguments\""
   ]
  },
  {
   "cell_type": "code",
   "execution_count": 31,
   "id": "d1ac4bac",
   "metadata": {},
   "outputs": [
    {
     "name": "stdout",
     "output_type": "stream",
     "text": [
      "Name : manish , Street_Num : 1012, PinCode: 56048 \n"
     ]
    }
   ],
   "source": [
    "# 1st and 3rd argument supplied while second argument will have default value \n",
    "u_profile(\"manish\",pin_code=56048) "
   ]
  },
  {
   "cell_type": "code",
   "execution_count": null,
   "id": "81cf89de",
   "metadata": {},
   "outputs": [],
   "source": [
    "\"\"\"Positional arguments can be called using parameter name \n",
    "   whether or not parameters have default values \"\"\" "
   ]
  },
  {
   "cell_type": "code",
   "execution_count": 33,
   "id": "51930892",
   "metadata": {},
   "outputs": [],
   "source": [
    "def u_profile(name, street_num, pin_code):\n",
    "    print(f\"Name : {name} , Street_Num : {street_num}, PinCode: {pin_code} \")"
   ]
  },
  {
   "cell_type": "code",
   "execution_count": 34,
   "id": "1ca89319",
   "metadata": {},
   "outputs": [
    {
     "name": "stdout",
     "output_type": "stream",
     "text": [
      "Name : manish , Street_Num : 1012, PinCode: 56048 \n"
     ]
    }
   ],
   "source": [
    "### positional arguments called using parameter name \n",
    "u_profile(name =\"manish\", street_num=1012 , pin_code=56048 ) "
   ]
  },
  {
   "cell_type": "code",
   "execution_count": 35,
   "id": "9b1e896f",
   "metadata": {
    "scrolled": true
   },
   "outputs": [
    {
     "name": "stdout",
     "output_type": "stream",
     "text": [
      "Name : manish , Street_Num : 1012, PinCode: 56048 \n"
     ]
    }
   ],
   "source": [
    "\"\"\" Order does not matter if all the positional arguments are \n",
    "    called with parameter name\"\"\"\n",
    "### position of name argument is different\n",
    "u_profile( street_num=1012 , pin_code=56048,name =\"manish\" ) "
   ]
  },
  {
   "cell_type": "markdown",
   "id": "c8e1a662",
   "metadata": {},
   "source": [
    "### While calling a function once you have named a.k.a keyword arguments, all the arguments after that should be named "
   ]
  },
  {
   "cell_type": "code",
   "execution_count": 37,
   "id": "2ebc098b",
   "metadata": {
    "scrolled": true
   },
   "outputs": [
    {
     "ename": "SyntaxError",
     "evalue": "positional argument follows keyword argument (<ipython-input-37-1c11ccbc6817>, line 1)",
     "output_type": "error",
     "traceback": [
      "\u001b[1;36m  File \u001b[1;32m\"<ipython-input-37-1c11ccbc6817>\"\u001b[1;36m, line \u001b[1;32m1\u001b[0m\n\u001b[1;33m    u_profile(street_num=1012 , 56048 ,name =\"manish\" )\u001b[0m\n\u001b[1;37m                                ^\u001b[0m\n\u001b[1;31mSyntaxError\u001b[0m\u001b[1;31m:\u001b[0m positional argument follows keyword argument\n"
     ]
    }
   ],
   "source": [
    "u_profile(street_num=1012 , 56048 ,name =\"manish\" )"
   ]
  },
  {
   "cell_type": "code",
   "execution_count": 40,
   "id": "e7fad5bc",
   "metadata": {},
   "outputs": [],
   "source": [
    "### street_num and pin_code have default values\n",
    "def u_profile(name, street_num=12345, pin_code=10000):\n",
    "    print(f\"Name : {name} , Street_Num : {street_num}, PinCode: {pin_code} \")"
   ]
  },
  {
   "cell_type": "code",
   "execution_count": 41,
   "id": "6eebf3a6",
   "metadata": {},
   "outputs": [
    {
     "name": "stdout",
     "output_type": "stream",
     "text": [
      "Name : manish , Street_Num : 1012, PinCode: 10000 \n"
     ]
    }
   ],
   "source": [
    "u_profile(name =\"manish\", street_num=1012  )# 3rd argument omitted"
   ]
  },
  {
   "cell_type": "code",
   "execution_count": 42,
   "id": "f864de2f",
   "metadata": {},
   "outputs": [
    {
     "name": "stdout",
     "output_type": "stream",
     "text": [
      "Name : manish , Street_Num : 12345, PinCode: 10000 \n"
     ]
    }
   ],
   "source": [
    "u_profile(name =\"manish\"  )# 2nd and 3rd argument omitted"
   ]
  },
  {
   "cell_type": "code",
   "execution_count": null,
   "id": "9496e759",
   "metadata": {},
   "outputs": [],
   "source": []
  }
 ],
 "metadata": {
  "kernelspec": {
   "display_name": "Python 3",
   "language": "python",
   "name": "python3"
  },
  "language_info": {
   "codemirror_mode": {
    "name": "ipython",
    "version": 3
   },
   "file_extension": ".py",
   "mimetype": "text/x-python",
   "name": "python",
   "nbconvert_exporter": "python",
   "pygments_lexer": "ipython3",
   "version": "3.8.8"
  }
 },
 "nbformat": 4,
 "nbformat_minor": 5
}
