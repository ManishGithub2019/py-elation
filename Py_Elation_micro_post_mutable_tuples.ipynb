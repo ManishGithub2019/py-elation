{
 "cells": [
  {
   "cell_type": "markdown",
   "id": "6131d10a",
   "metadata": {},
   "source": [
    "### Mutable tuples "
   ]
  },
  {
   "cell_type": "code",
   "execution_count": 2,
   "id": "d8333110",
   "metadata": {},
   "outputs": [],
   "source": [
    "my_tup = (1,2,3,4)"
   ]
  },
  {
   "cell_type": "code",
   "execution_count": 3,
   "id": "e04379a0",
   "metadata": {},
   "outputs": [
    {
     "name": "stdout",
     "output_type": "stream",
     "text": [
      "1 2 3 4 "
     ]
    }
   ],
   "source": [
    "for t in my_tup:\n",
    "    print(t, end = \" \")"
   ]
  },
  {
   "cell_type": "code",
   "execution_count": 4,
   "id": "b6ec427e",
   "metadata": {},
   "outputs": [
    {
     "data": {
      "text/plain": [
       "1"
      ]
     },
     "execution_count": 4,
     "metadata": {},
     "output_type": "execute_result"
    }
   ],
   "source": [
    "my_tup[0] "
   ]
  },
  {
   "cell_type": "code",
   "execution_count": 5,
   "id": "009e6c17",
   "metadata": {
    "scrolled": true
   },
   "outputs": [
    {
     "ename": "TypeError",
     "evalue": "'tuple' object does not support item assignment",
     "output_type": "error",
     "traceback": [
      "\u001b[1;31m---------------------------------------------------------------------------\u001b[0m",
      "\u001b[1;31mTypeError\u001b[0m                                 Traceback (most recent call last)",
      "\u001b[1;32m<ipython-input-5-7ccbb9a23271>\u001b[0m in \u001b[0;36m<module>\u001b[1;34m\u001b[0m\n\u001b[1;32m----> 1\u001b[1;33m \u001b[0mmy_tup\u001b[0m\u001b[1;33m[\u001b[0m\u001b[1;36m0\u001b[0m\u001b[1;33m]\u001b[0m \u001b[1;33m=\u001b[0m \u001b[1;36m100\u001b[0m\u001b[1;33m\u001b[0m\u001b[1;33m\u001b[0m\u001b[0m\n\u001b[0m",
      "\u001b[1;31mTypeError\u001b[0m: 'tuple' object does not support item assignment"
     ]
    }
   ],
   "source": [
    "my_tup[0] = 100"
   ]
  },
  {
   "cell_type": "markdown",
   "id": "50bd932b",
   "metadata": {},
   "source": [
    "### Lets define another tuple "
   ]
  },
  {
   "cell_type": "code",
   "execution_count": 6,
   "id": "3a8c2053",
   "metadata": {},
   "outputs": [],
   "source": [
    "my_tup = (1,[2,3],4)"
   ]
  },
  {
   "cell_type": "code",
   "execution_count": 7,
   "id": "a95bd9b6",
   "metadata": {},
   "outputs": [
    {
     "data": {
      "text/plain": [
       "tuple"
      ]
     },
     "execution_count": 7,
     "metadata": {},
     "output_type": "execute_result"
    }
   ],
   "source": [
    "type(my_tup)"
   ]
  },
  {
   "cell_type": "code",
   "execution_count": 8,
   "id": "076cfeeb",
   "metadata": {},
   "outputs": [
    {
     "data": {
      "text/plain": [
       "1"
      ]
     },
     "execution_count": 8,
     "metadata": {},
     "output_type": "execute_result"
    }
   ],
   "source": [
    "my_tup[0]"
   ]
  },
  {
   "cell_type": "code",
   "execution_count": 9,
   "id": "96a394b1",
   "metadata": {},
   "outputs": [
    {
     "ename": "TypeError",
     "evalue": "'tuple' object does not support item assignment",
     "output_type": "error",
     "traceback": [
      "\u001b[1;31m---------------------------------------------------------------------------\u001b[0m",
      "\u001b[1;31mTypeError\u001b[0m                                 Traceback (most recent call last)",
      "\u001b[1;32m<ipython-input-9-7ccbb9a23271>\u001b[0m in \u001b[0;36m<module>\u001b[1;34m\u001b[0m\n\u001b[1;32m----> 1\u001b[1;33m \u001b[0mmy_tup\u001b[0m\u001b[1;33m[\u001b[0m\u001b[1;36m0\u001b[0m\u001b[1;33m]\u001b[0m \u001b[1;33m=\u001b[0m \u001b[1;36m100\u001b[0m\u001b[1;33m\u001b[0m\u001b[1;33m\u001b[0m\u001b[0m\n\u001b[0m",
      "\u001b[1;31mTypeError\u001b[0m: 'tuple' object does not support item assignment"
     ]
    }
   ],
   "source": [
    "my_tup[0] = 100"
   ]
  },
  {
   "cell_type": "markdown",
   "id": "99e90455",
   "metadata": {},
   "source": [
    "### Lets try one more time to confirm "
   ]
  },
  {
   "cell_type": "code",
   "execution_count": 10,
   "id": "4928b98a",
   "metadata": {},
   "outputs": [],
   "source": [
    "my_tup[1][0] = 200"
   ]
  },
  {
   "cell_type": "code",
   "execution_count": 11,
   "id": "6e2f91e7",
   "metadata": {},
   "outputs": [
    {
     "data": {
      "text/plain": [
       "(1, [200, 3], 4)"
      ]
     },
     "execution_count": 11,
     "metadata": {},
     "output_type": "execute_result"
    }
   ],
   "source": [
    "my_tup"
   ]
  },
  {
   "cell_type": "code",
   "execution_count": null,
   "id": "bc76f52f",
   "metadata": {},
   "outputs": [],
   "source": []
  },
  {
   "cell_type": "code",
   "execution_count": 12,
   "id": "8d5c41a3",
   "metadata": {},
   "outputs": [],
   "source": [
    "my_tup = (1,[2,3],4)"
   ]
  },
  {
   "cell_type": "code",
   "execution_count": 14,
   "id": "3ba944dd",
   "metadata": {},
   "outputs": [
    {
     "name": "stdout",
     "output_type": "stream",
     "text": [
      "ID of my_tuple 1296361448640 ,ID of second element of tuple 1296360319488 \n"
     ]
    }
   ],
   "source": [
    "print(f\"ID of my_tuple {id(my_tup)} ,\\\n",
    "ID of second element of tuple {id(my_tup[1])} \")"
   ]
  },
  {
   "cell_type": "markdown",
   "id": "1eceeb1e",
   "metadata": {},
   "source": [
    "### Lets try editing the tuple  again "
   ]
  },
  {
   "cell_type": "code",
   "execution_count": 17,
   "id": "cc522531",
   "metadata": {},
   "outputs": [
    {
     "name": "stdout",
     "output_type": "stream",
     "text": [
      "(1, [200, 3], 4)\n"
     ]
    }
   ],
   "source": [
    "my_tup[1][0] = 200\n",
    "print(my_tup)"
   ]
  },
  {
   "cell_type": "markdown",
   "id": "970d1fcf",
   "metadata": {},
   "source": [
    "### The tuple is modified, lets see the memory address again "
   ]
  },
  {
   "cell_type": "code",
   "execution_count": 20,
   "id": "b65efbf1",
   "metadata": {},
   "outputs": [
    {
     "name": "stdout",
     "output_type": "stream",
     "text": [
      "ID of my_tuple 1296361448640 ,ID of second element of tuple 1296360319488 \n"
     ]
    }
   ],
   "source": [
    "print(f\"ID of my_tuple {id(my_tup)} ,\\\n",
    "ID of second element of tuple {id(my_tup[1])} \")"
   ]
  },
  {
   "cell_type": "code",
   "execution_count": null,
   "id": "36a5b2d5",
   "metadata": {},
   "outputs": [],
   "source": []
  },
  {
   "cell_type": "code",
   "execution_count": null,
   "id": "ea1dc340",
   "metadata": {},
   "outputs": [],
   "source": []
  },
  {
   "cell_type": "code",
   "execution_count": null,
   "id": "e0397338",
   "metadata": {},
   "outputs": [],
   "source": []
  }
 ],
 "metadata": {
  "kernelspec": {
   "display_name": "Python 3",
   "language": "python",
   "name": "python3"
  },
  "language_info": {
   "codemirror_mode": {
    "name": "ipython",
    "version": 3
   },
   "file_extension": ".py",
   "mimetype": "text/x-python",
   "name": "python",
   "nbconvert_exporter": "python",
   "pygments_lexer": "ipython3",
   "version": "3.8.8"
  }
 },
 "nbformat": 4,
 "nbformat_minor": 5
}
