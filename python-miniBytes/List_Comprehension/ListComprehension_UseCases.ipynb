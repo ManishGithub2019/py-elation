{
 "cells": [
  {
   "cell_type": "markdown",
   "id": "13770914",
   "metadata": {},
   "source": [
    "### This Notebook file have some common use cases for <font color='red'>List comprehension</font>  in python"
   ]
  },
  {
   "cell_type": "markdown",
   "id": "868fbe5e",
   "metadata": {},
   "source": [
    "### UseCase01 : Splitting a string\n",
    "- For example split \"apple\" to [\"a\", \"p\", \"p\", \"l\", \"e\"]"
   ]
  },
  {
   "cell_type": "code",
   "execution_count": 1,
   "id": "b7947f7c",
   "metadata": {},
   "outputs": [],
   "source": [
    "my_string = \"apple\""
   ]
  },
  {
   "cell_type": "code",
   "execution_count": 2,
   "id": "38302756",
   "metadata": {},
   "outputs": [
    {
     "name": "stdout",
     "output_type": "stream",
     "text": [
      "['a', 'p', 'p', 'l', 'e']\n"
     ]
    }
   ],
   "source": [
    "### Using for loop\n",
    "my_list = []\n",
    "for x in my_string:\n",
    "    my_list.append(x)\n",
    "print(my_list)"
   ]
  },
  {
   "cell_type": "code",
   "execution_count": 3,
   "id": "ddb7e6f4",
   "metadata": {},
   "outputs": [
    {
     "name": "stdout",
     "output_type": "stream",
     "text": [
      "['a', 'p', 'p', 'l', 'e']\n"
     ]
    }
   ],
   "source": [
    "### with list comprehension \n",
    "my_list = [x for x in my_string]\n",
    "print(my_list)"
   ]
  },
  {
   "cell_type": "markdown",
   "id": "e748d5da",
   "metadata": {},
   "source": [
    "### UseCase02: Filter specific values from a list(based on some conditions)\n",
    "- Example my_list = [10,-20,30,40,100,0,-20,-1] Remove all the values which are =< 0"
   ]
  },
  {
   "cell_type": "code",
   "execution_count": 6,
   "id": "fc319b79",
   "metadata": {},
   "outputs": [],
   "source": [
    "my_list = [10,-20,30,40,100,0,-20,-1]"
   ]
  },
  {
   "cell_type": "code",
   "execution_count": 13,
   "id": "12c58676",
   "metadata": {},
   "outputs": [
    {
     "data": {
      "text/plain": [
       "[10, 30, 40, 100, -20]"
      ]
     },
     "execution_count": 13,
     "metadata": {},
     "output_type": "execute_result"
    }
   ],
   "source": [
    "#using for loop\n",
    "for idx,x in enumerate(my_list):\n",
    "    if (x <= 0):\n",
    "        my_list.pop(idx)\n",
    "my_list"
   ]
  },
  {
   "cell_type": "code",
   "execution_count": 14,
   "id": "fbe332f4",
   "metadata": {},
   "outputs": [
    {
     "data": {
      "text/plain": [
       "[10, 30, 40, 100]"
      ]
     },
     "execution_count": 14,
     "metadata": {},
     "output_type": "execute_result"
    }
   ],
   "source": [
    "my_list = [10,-20,30,40,100,0,-20,-1]\n",
    "# using list comprehension with condition \n",
    "my_new_list = [x for x in my_list if x > 0]\n",
    "my_new_list"
   ]
  },
  {
   "cell_type": "markdown",
   "id": "017bce92",
   "metadata": {},
   "source": [
    "### UseCase03: Concatenate 2 lists \n",
    "- firstname = [\"Jon\", \"Mary\", \"Mike\", \"Tom\"]\n",
    "- lastname = [\"Li\",\"Right\",\"Hua\",\"Stafford\"]\n",
    "- Generate a new list like [\"Jon Li\", \"Mary Right\", \"Mike Hua\", \"Tom Stafford\"]"
   ]
  },
  {
   "cell_type": "code",
   "execution_count": 15,
   "id": "89073e00",
   "metadata": {},
   "outputs": [],
   "source": [
    "firstname = [\"Jon\", \"Mary\", \"Mike\", \"Tom\"]\n",
    "lastname = [\"Li\",\"Right\",\"Hua\",\"Stafford\"]"
   ]
  },
  {
   "cell_type": "code",
   "execution_count": 27,
   "id": "51073e96",
   "metadata": {},
   "outputs": [
    {
     "data": {
      "text/plain": [
       "['Jon Li', 'Mary Right', 'Mike Hua', 'Tom Stafford']"
      ]
     },
     "execution_count": 27,
     "metadata": {},
     "output_type": "execute_result"
    }
   ],
   "source": [
    "# using for loop\n",
    "fullname = []\n",
    "for idx,fname in enumerate(firstname):\n",
    "    fullname.append(fname+\" \"+lastname[idx])\n",
    "fullname"
   ]
  },
  {
   "cell_type": "code",
   "execution_count": 22,
   "id": "4dcfcd26",
   "metadata": {},
   "outputs": [],
   "source": [
    "# using list comprehension"
   ]
  },
  {
   "cell_type": "code",
   "execution_count": 26,
   "id": "60a96658",
   "metadata": {},
   "outputs": [
    {
     "data": {
      "text/plain": [
       "['Jon Li', 'Mary Right', 'Mike Hua', 'Tom Stafford']"
      ]
     },
     "execution_count": 26,
     "metadata": {},
     "output_type": "execute_result"
    }
   ],
   "source": [
    "my_fullname = [ \" \".join(x) for x in zip(firstname,lastname)]\n",
    "my_fullname"
   ]
  },
  {
   "cell_type": "code",
   "execution_count": null,
   "id": "4e5dda25",
   "metadata": {},
   "outputs": [],
   "source": []
  }
 ],
 "metadata": {
  "kernelspec": {
   "display_name": "Python 3",
   "language": "python",
   "name": "python3"
  },
  "language_info": {
   "codemirror_mode": {
    "name": "ipython",
    "version": 3
   },
   "file_extension": ".py",
   "mimetype": "text/x-python",
   "name": "python",
   "nbconvert_exporter": "python",
   "pygments_lexer": "ipython3",
   "version": "3.8.8"
  }
 },
 "nbformat": 4,
 "nbformat_minor": 5
}
