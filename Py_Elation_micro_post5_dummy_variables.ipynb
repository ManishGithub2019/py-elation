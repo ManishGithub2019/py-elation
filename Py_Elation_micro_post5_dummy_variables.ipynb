{
 "cells": [
  {
   "cell_type": "markdown",
   "id": "20092e71",
   "metadata": {},
   "source": [
    "### Dummy Variables"
   ]
  },
  {
   "cell_type": "code",
   "execution_count": 1,
   "id": "22c6ae39",
   "metadata": {},
   "outputs": [],
   "source": [
    "patient_record = ('Bill', 'New York', '02-06-2021',42)"
   ]
  },
  {
   "cell_type": "code",
   "execution_count": 2,
   "id": "1806a7f3",
   "metadata": {},
   "outputs": [],
   "source": [
    "name, city, date_registered, age = patient_record"
   ]
  },
  {
   "cell_type": "code",
   "execution_count": 3,
   "id": "ef2a47b1",
   "metadata": {},
   "outputs": [
    {
     "name": "stdout",
     "output_type": "stream",
     "text": [
      "Name:Bill, City:New York, Date_Registered:02-06-2021,Age:42\n"
     ]
    }
   ],
   "source": [
    "print(f\"Name:{name}, City:{city}, Date_Registered:{date_registered},Age:{age}\")"
   ]
  },
  {
   "cell_type": "markdown",
   "id": "f83eedb8",
   "metadata": {},
   "source": [
    "### Say we dont need date_registered value any further , one option would be assign a variable and not use it. Another option \"which will save some typing\" will be use a dummy variable"
   ]
  },
  {
   "cell_type": "code",
   "execution_count": 4,
   "id": "617c692b",
   "metadata": {},
   "outputs": [],
   "source": [
    "#Option #1\n",
    "name, city, IGNORE_date_registered, age = patient_record"
   ]
  },
  {
   "cell_type": "code",
   "execution_count": 5,
   "id": "d97ccf0d",
   "metadata": {
    "scrolled": true
   },
   "outputs": [
    {
     "name": "stdout",
     "output_type": "stream",
     "text": [
      "Name:Bill, City:New York, Date_Registered:02-06-2021,Age:42\n"
     ]
    }
   ],
   "source": [
    "print(f\"Name:{name}, City:{city}, \\\n",
    "Date_Registered:{IGNORE_date_registered},\\\n",
    "Age:{age}\")"
   ]
  },
  {
   "cell_type": "code",
   "execution_count": 6,
   "id": "10af14d0",
   "metadata": {},
   "outputs": [],
   "source": [
    "#Option #2\n",
    "name, city, _, age = patient_record"
   ]
  },
  {
   "cell_type": "code",
   "execution_count": 7,
   "id": "eb0f19c4",
   "metadata": {},
   "outputs": [
    {
     "name": "stdout",
     "output_type": "stream",
     "text": [
      "Name:Bill, City:New York, Date_Registered:02-06-2021,Age:42\n"
     ]
    }
   ],
   "source": [
    "print(f\"Name:{name}, City:{city}, Date_Registered:{_},Age:{age}\")"
   ]
  },
  {
   "cell_type": "markdown",
   "id": "208388f2",
   "metadata": {},
   "source": [
    "### IT was fairly easy to handle it,lets consider another example, a ticker record for a stock "
   ]
  },
  {
   "cell_type": "code",
   "execution_count": 8,
   "id": "f2031d71",
   "metadata": {},
   "outputs": [],
   "source": [
    "#symbol, year, month, day, open, high, 52W high, close\n",
    "\n",
    "record = ('DIJA', 2018, 1,19,2598.7,26071.7,25942.8,26071.7)"
   ]
  },
  {
   "cell_type": "markdown",
   "id": "8b8afa47",
   "metadata": {},
   "source": [
    "### Now if we don't want to use following 3 variable to be used subsequently in out program. one way is as below "
   ]
  },
  {
   "cell_type": "code",
   "execution_count": 9,
   "id": "9a2dbbb8",
   "metadata": {},
   "outputs": [],
   "source": [
    "symbol, year, month, day, \\\n",
    "ignore_open, ignore_high, ignore_52W_high, close = record"
   ]
  },
  {
   "cell_type": "code",
   "execution_count": 10,
   "id": "2b980b4d",
   "metadata": {},
   "outputs": [
    {
     "name": "stdout",
     "output_type": "stream",
     "text": [
      "DIJA 2018 1 19 2598.7 26071.7 25942.8 26071.7\n"
     ]
    }
   ],
   "source": [
    "print(symbol, year, month, day,\\\n",
    "      ignore_open, ignore_high, ignore_52W_high, close)"
   ]
  },
  {
   "cell_type": "markdown",
   "id": "4bf36933",
   "metadata": {},
   "source": [
    "### However a lot of typing :) wildcard with dummy variable can help us save some time"
   ]
  },
  {
   "cell_type": "code",
   "execution_count": 11,
   "id": "091a143c",
   "metadata": {},
   "outputs": [],
   "source": [
    "symbol,year,month,day,*_,close = record"
   ]
  },
  {
   "cell_type": "code",
   "execution_count": 12,
   "id": "429775ec",
   "metadata": {},
   "outputs": [
    {
     "name": "stdout",
     "output_type": "stream",
     "text": [
      "Symbol: DIJA, Year: 2018,Month: 1, Day: 19, ClosePrice: 26071.7\n"
     ]
    }
   ],
   "source": [
    "\n",
    "print(f\"Symbol: {symbol}, Year: {year}, \\\n",
    "Month: {month}, Day: {day}, ClosePrice: {close}\")"
   ]
  },
  {
   "cell_type": "code",
   "execution_count": 13,
   "id": "90c380a2",
   "metadata": {},
   "outputs": [
    {
     "name": "stdout",
     "output_type": "stream",
     "text": [
      "2598.7 26071.7 25942.8\n"
     ]
    }
   ],
   "source": [
    "print(*_)"
   ]
  },
  {
   "cell_type": "code",
   "execution_count": null,
   "id": "c45222a4",
   "metadata": {},
   "outputs": [],
   "source": []
  }
 ],
 "metadata": {
  "kernelspec": {
   "display_name": "Python 3",
   "language": "python",
   "name": "python3"
  },
  "language_info": {
   "codemirror_mode": {
    "name": "ipython",
    "version": 3
   },
   "file_extension": ".py",
   "mimetype": "text/x-python",
   "name": "python",
   "nbconvert_exporter": "python",
   "pygments_lexer": "ipython3",
   "version": "3.8.8"
  }
 },
 "nbformat": 4,
 "nbformat_minor": 5
}
