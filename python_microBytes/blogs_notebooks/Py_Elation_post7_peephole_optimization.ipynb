{
 "cells": [
  {
   "cell_type": "markdown",
   "id": "267036f0",
   "metadata": {},
   "source": [
    "### Python peeohole optimization and set Vs Tuple/list performance "
   ]
  },
  {
   "cell_type": "code",
   "execution_count": 1,
   "id": "01d15e93",
   "metadata": {},
   "outputs": [],
   "source": [
    "def my_func():\n",
    "    a = 24 * 60\n",
    "    b = (1,2)*5\n",
    "    my_list = ['x','y']*3    "
   ]
  },
  {
   "cell_type": "markdown",
   "id": "b4679b92",
   "metadata": {},
   "source": [
    "### So we excecuted the code and python compled it. Lets see what all the contants associated with the function "
   ]
  },
  {
   "cell_type": "code",
   "execution_count": 2,
   "id": "57feea39",
   "metadata": {},
   "outputs": [
    {
     "data": {
      "text/plain": [
       "(None, 1440, (1, 2, 1, 2, 1, 2, 1, 2, 1, 2), 'x', 'y', 3)"
      ]
     },
     "execution_count": 2,
     "metadata": {},
     "output_type": "execute_result"
    }
   ],
   "source": [
    "my_func.__code__.co_consts"
   ]
  },
  {
   "cell_type": "code",
   "execution_count": null,
   "id": "6fff7351",
   "metadata": {},
   "outputs": [],
   "source": []
  },
  {
   "cell_type": "code",
   "execution_count": 3,
   "id": "4b89241d",
   "metadata": {},
   "outputs": [],
   "source": [
    "def my_func(e):\n",
    "    if e in [1,2,3]:\n",
    "        pass"
   ]
  },
  {
   "cell_type": "code",
   "execution_count": 4,
   "id": "bc671489",
   "metadata": {},
   "outputs": [
    {
     "data": {
      "text/plain": [
       "(None, (1, 2, 3))"
      ]
     },
     "execution_count": 4,
     "metadata": {},
     "output_type": "execute_result"
    }
   ],
   "source": [
    "my_func.__code__.co_consts"
   ]
  },
  {
   "cell_type": "code",
   "execution_count": 5,
   "id": "dc2f8e01",
   "metadata": {},
   "outputs": [],
   "source": [
    "def my_func(e):\n",
    "    if e in {1,2,3}:\n",
    "        pass"
   ]
  },
  {
   "cell_type": "code",
   "execution_count": 6,
   "id": "8b5cb28d",
   "metadata": {},
   "outputs": [
    {
     "data": {
      "text/plain": [
       "(None, frozenset({1, 2, 3}))"
      ]
     },
     "execution_count": 6,
     "metadata": {},
     "output_type": "execute_result"
    }
   ],
   "source": [
    "my_func.__code__.co_consts"
   ]
  },
  {
   "cell_type": "code",
   "execution_count": null,
   "id": "a71f6630",
   "metadata": {},
   "outputs": [],
   "source": []
  },
  {
   "cell_type": "code",
   "execution_count": 7,
   "id": "d4113c15",
   "metadata": {},
   "outputs": [],
   "source": [
    "import string\n",
    "import time"
   ]
  },
  {
   "cell_type": "code",
   "execution_count": 8,
   "id": "b2e31804",
   "metadata": {},
   "outputs": [
    {
     "data": {
      "text/plain": [
       "'abcdefghijklmnopqrstuvwxyzABCDEFGHIJKLMNOPQRSTUVWXYZ'"
      ]
     },
     "execution_count": 8,
     "metadata": {},
     "output_type": "execute_result"
    }
   ],
   "source": [
    "string.ascii_letters"
   ]
  },
  {
   "cell_type": "code",
   "execution_count": 9,
   "id": "0d65d3d9",
   "metadata": {},
   "outputs": [],
   "source": [
    "char_list = list(string.ascii_letters)\n",
    "char_tuple = tuple(string.ascii_letters)\n",
    "char_set = set(string.ascii_letters)"
   ]
  },
  {
   "cell_type": "code",
   "execution_count": 10,
   "id": "b6e9c2a0",
   "metadata": {},
   "outputs": [
    {
     "name": "stdout",
     "output_type": "stream",
     "text": [
      "['a', 'b', 'c', 'd', 'e', 'f', 'g', 'h', 'i', 'j', 'k', 'l', 'm', 'n', 'o', 'p', 'q', 'r', 's', 't', 'u', 'v', 'w', 'x', 'y', 'z', 'A', 'B', 'C', 'D', 'E', 'F', 'G', 'H', 'I', 'J', 'K', 'L', 'M', 'N', 'O', 'P', 'Q', 'R', 'S', 'T', 'U', 'V', 'W', 'X', 'Y', 'Z']\n"
     ]
    }
   ],
   "source": [
    "print(char_list)"
   ]
  },
  {
   "cell_type": "code",
   "execution_count": 11,
   "id": "6ac7d4e6",
   "metadata": {},
   "outputs": [
    {
     "name": "stdout",
     "output_type": "stream",
     "text": [
      "('a', 'b', 'c', 'd', 'e', 'f', 'g', 'h', 'i', 'j', 'k', 'l', 'm', 'n', 'o', 'p', 'q', 'r', 's', 't', 'u', 'v', 'w', 'x', 'y', 'z', 'A', 'B', 'C', 'D', 'E', 'F', 'G', 'H', 'I', 'J', 'K', 'L', 'M', 'N', 'O', 'P', 'Q', 'R', 'S', 'T', 'U', 'V', 'W', 'X', 'Y', 'Z')\n"
     ]
    }
   ],
   "source": [
    "print(char_tuple)"
   ]
  },
  {
   "cell_type": "code",
   "execution_count": 12,
   "id": "c7adf715",
   "metadata": {},
   "outputs": [
    {
     "name": "stdout",
     "output_type": "stream",
     "text": [
      "{'m', 'G', 'y', 'K', 's', 'j', 'r', 'D', 'X', 'z', 'n', 'B', 'R', 'Y', 'o', 'q', 'C', 'v', 'T', 'd', 'A', 'h', 'b', 'E', 'F', 'Q', 'Z', 'f', 'c', 'p', 'e', 'L', 'O', 'x', 'k', 'l', 'S', 't', 'a', 'U', 'i', 'H', 'u', 'g', 'I', 'M', 'J', 'w', 'V', 'N', 'P', 'W'}\n"
     ]
    }
   ],
   "source": [
    "print(char_set)"
   ]
  },
  {
   "cell_type": "code",
   "execution_count": 13,
   "id": "96e6a609",
   "metadata": {},
   "outputs": [],
   "source": [
    "def membership_test(n, # Number of times the test will be repeated\n",
    "                    container # what do we want to search\n",
    "                   ):\n",
    "    for i in range(n):\n",
    "        if 'z' in container:\n",
    "            pass"
   ]
  },
  {
   "cell_type": "code",
   "execution_count": 14,
   "id": "7802d331",
   "metadata": {},
   "outputs": [
    {
     "name": "stdout",
     "output_type": "stream",
     "text": [
      "Measurement for list: 0.37506759999999995\n"
     ]
    }
   ],
   "source": [
    "start = time.perf_counter()\n",
    "membership_test(1000000, char_list)\n",
    "end = time.perf_counter()\n",
    "print('Measurement for list:', end - start)"
   ]
  },
  {
   "cell_type": "code",
   "execution_count": 15,
   "id": "aa132303",
   "metadata": {},
   "outputs": [
    {
     "name": "stdout",
     "output_type": "stream",
     "text": [
      "Measurement for tuple: 0.3669888000000001\n"
     ]
    }
   ],
   "source": [
    "start = time.perf_counter()\n",
    "membership_test(1000000, char_tuple)\n",
    "end = time.perf_counter()\n",
    "print('Measurement for tuple:', end - start)"
   ]
  },
  {
   "cell_type": "code",
   "execution_count": 16,
   "id": "8803f039",
   "metadata": {},
   "outputs": [
    {
     "name": "stdout",
     "output_type": "stream",
     "text": [
      "Measurement for set: 0.04497889999999982\n"
     ]
    }
   ],
   "source": [
    "start = time.perf_counter()\n",
    "membership_test(1000000, char_set)\n",
    "end = time.perf_counter()\n",
    "print('Measurement for set:', end - start)"
   ]
  },
  {
   "cell_type": "code",
   "execution_count": null,
   "id": "dd439d2a",
   "metadata": {},
   "outputs": [],
   "source": []
  }
 ],
 "metadata": {
  "kernelspec": {
   "display_name": "Python 3",
   "language": "python",
   "name": "python3"
  },
  "language_info": {
   "codemirror_mode": {
    "name": "ipython",
    "version": 3
   },
   "file_extension": ".py",
   "mimetype": "text/x-python",
   "name": "python",
   "nbconvert_exporter": "python",
   "pygments_lexer": "ipython3",
   "version": "3.8.8"
  }
 },
 "nbformat": 4,
 "nbformat_minor": 5
}
