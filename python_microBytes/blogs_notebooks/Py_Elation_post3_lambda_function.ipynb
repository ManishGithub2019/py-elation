{
 "cells": [
  {
   "cell_type": "markdown",
   "id": "44655694",
   "metadata": {},
   "source": [
    "### Anonymous Functions, try to find pattern in below examples"
   ]
  },
  {
   "cell_type": "code",
   "execution_count": 4,
   "id": "18dc7377",
   "metadata": {},
   "outputs": [],
   "source": [
    "def add(a,b):\n",
    "    return a+b"
   ]
  },
  {
   "cell_type": "code",
   "execution_count": 5,
   "id": "e3869283",
   "metadata": {},
   "outputs": [],
   "source": [
    "def multiply(a,b):\n",
    "    return a * b"
   ]
  },
  {
   "cell_type": "code",
   "execution_count": 6,
   "id": "50cbae75",
   "metadata": {},
   "outputs": [],
   "source": [
    "def power(a, b):\n",
    "    return a ** b"
   ]
  },
  {
   "cell_type": "markdown",
   "id": "d9b0519a",
   "metadata": {},
   "source": [
    "### Did you observe any pattern ?"
   ]
  },
  {
   "cell_type": "code",
   "execution_count": null,
   "id": "03045c5b",
   "metadata": {},
   "outputs": [],
   "source": []
  },
  {
   "cell_type": "markdown",
   "id": "74ace186",
   "metadata": {},
   "source": [
    "### Lambda definition for following function \n",
    "#### def add(a,b):\n",
    "    return a+b"
   ]
  },
  {
   "cell_type": "code",
   "execution_count": 14,
   "id": "f8348896",
   "metadata": {},
   "outputs": [
    {
     "name": "stdout",
     "output_type": "stream",
     "text": [
      "The sum of a, b is 3\n"
     ]
    }
   ],
   "source": [
    "fn = lambda a,b: a+b\n",
    "print(\"The sum of a, b is {}\".format(fn(1,2)))"
   ]
  },
  {
   "cell_type": "markdown",
   "id": "65ec3063",
   "metadata": {},
   "source": [
    "### Lambda definition for following function \n",
    "#### def multiply(a,b):\n",
    "    return a*b"
   ]
  },
  {
   "cell_type": "code",
   "execution_count": 15,
   "id": "12afc809",
   "metadata": {},
   "outputs": [
    {
     "name": "stdout",
     "output_type": "stream",
     "text": [
      "The multiplication of a, b is 2\n"
     ]
    }
   ],
   "source": [
    "fn = lambda a,b: a*b\n",
    "print(\"The multiplication of a, b is {}\".format(fn(1,2)))"
   ]
  },
  {
   "cell_type": "markdown",
   "id": "6922a541",
   "metadata": {},
   "source": [
    "### Lambda definition for following function \n",
    "#### def power(a,b):\n",
    "    return a**b"
   ]
  },
  {
   "cell_type": "code",
   "execution_count": 17,
   "id": "36c10c07",
   "metadata": {},
   "outputs": [
    {
     "name": "stdout",
     "output_type": "stream",
     "text": [
      "The power of a to b is 1\n"
     ]
    }
   ],
   "source": [
    "fn = lambda a,b: a**b\n",
    "print(\"The power of a to b is {}\".format(fn(1,2)))"
   ]
  },
  {
   "cell_type": "code",
   "execution_count": null,
   "id": "aef28a59",
   "metadata": {},
   "outputs": [],
   "source": []
  },
  {
   "cell_type": "markdown",
   "id": "017b7f7d",
   "metadata": {},
   "source": [
    "### Lambda definition for following function \n",
    "#### def subtract(a,b):\n",
    "    return a - b "
   ]
  },
  {
   "cell_type": "code",
   "execution_count": 28,
   "id": "57f8fb50",
   "metadata": {
    "scrolled": true
   },
   "outputs": [
    {
     "name": "stdout",
     "output_type": "stream",
     "text": [
      "The subtraction of a to b is -2\n"
     ]
    }
   ],
   "source": [
    "fn = lambda a, b: (a - b) \n",
    "print(\"The subtraction of a to b is {}\".format(fn(2,4)))"
   ]
  },
  {
   "cell_type": "code",
   "execution_count": null,
   "id": "50bacb60",
   "metadata": {},
   "outputs": [],
   "source": []
  },
  {
   "cell_type": "code",
   "execution_count": null,
   "id": "6597f61a",
   "metadata": {},
   "outputs": [],
   "source": []
  },
  {
   "cell_type": "code",
   "execution_count": null,
   "id": "95f629ab",
   "metadata": {},
   "outputs": [],
   "source": []
  },
  {
   "cell_type": "code",
   "execution_count": null,
   "id": "2e0b3ca2",
   "metadata": {},
   "outputs": [],
   "source": []
  }
 ],
 "metadata": {
  "kernelspec": {
   "display_name": "Python 3",
   "language": "python",
   "name": "python3"
  },
  "language_info": {
   "codemirror_mode": {
    "name": "ipython",
    "version": 3
   },
   "file_extension": ".py",
   "mimetype": "text/x-python",
   "name": "python",
   "nbconvert_exporter": "python",
   "pygments_lexer": "ipython3",
   "version": "3.8.8"
  }
 },
 "nbformat": 4,
 "nbformat_minor": 5
}
