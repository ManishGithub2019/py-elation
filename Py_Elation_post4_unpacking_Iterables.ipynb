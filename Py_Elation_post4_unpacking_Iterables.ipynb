{
 "cells": [
  {
   "cell_type": "markdown",
   "id": "ceeabe20",
   "metadata": {},
   "source": [
    "### Unpacking a list "
   ]
  },
  {
   "cell_type": "code",
   "execution_count": 1,
   "id": "6aed0dee",
   "metadata": {},
   "outputs": [],
   "source": [
    "l1 = [100,200,300]"
   ]
  },
  {
   "cell_type": "code",
   "execution_count": 2,
   "id": "43d5005c",
   "metadata": {},
   "outputs": [],
   "source": [
    "x,y,z = l1"
   ]
  },
  {
   "cell_type": "markdown",
   "id": "2c221bae",
   "metadata": {},
   "source": [
    "After unpacking following assignment will happen \n",
    "x -> 100, y -> 200, z -> 300"
   ]
  },
  {
   "cell_type": "code",
   "execution_count": 3,
   "id": "480c7c62",
   "metadata": {},
   "outputs": [
    {
     "name": "stdout",
     "output_type": "stream",
     "text": [
      "x:100, y:200, z:300\n"
     ]
    }
   ],
   "source": [
    "print(f\"x:{x}, y:{y}, z:{z}\")"
   ]
  },
  {
   "cell_type": "code",
   "execution_count": null,
   "id": "3e4e97fd",
   "metadata": {},
   "outputs": [],
   "source": []
  },
  {
   "cell_type": "markdown",
   "id": "965436e0",
   "metadata": {},
   "source": [
    "### Unpacking a Tuple"
   ]
  },
  {
   "cell_type": "code",
   "execution_count": 4,
   "id": "3b8fc552",
   "metadata": {},
   "outputs": [],
   "source": [
    "tup1 = [100,200,300]"
   ]
  },
  {
   "cell_type": "code",
   "execution_count": 5,
   "id": "b27bd093",
   "metadata": {},
   "outputs": [],
   "source": [
    "x,y,z = tup1"
   ]
  },
  {
   "cell_type": "code",
   "execution_count": 6,
   "id": "2ed6949a",
   "metadata": {},
   "outputs": [
    {
     "name": "stdout",
     "output_type": "stream",
     "text": [
      "x:100, y:200, z:300\n"
     ]
    }
   ],
   "source": [
    "print(f\"x:{x}, y:{y}, z:{z}\")"
   ]
  },
  {
   "cell_type": "code",
   "execution_count": null,
   "id": "4fe0dd25",
   "metadata": {},
   "outputs": [],
   "source": []
  },
  {
   "cell_type": "markdown",
   "id": "7baf2d04",
   "metadata": {},
   "source": [
    "### Unpacking String"
   ]
  },
  {
   "cell_type": "code",
   "execution_count": 7,
   "id": "5a376b78",
   "metadata": {},
   "outputs": [],
   "source": [
    "str1 = 'python'"
   ]
  },
  {
   "cell_type": "code",
   "execution_count": 8,
   "id": "276ddaf0",
   "metadata": {},
   "outputs": [],
   "source": [
    "a,b,c,d,e,f = str1"
   ]
  },
  {
   "cell_type": "code",
   "execution_count": 9,
   "id": "03f44d17",
   "metadata": {},
   "outputs": [
    {
     "name": "stdout",
     "output_type": "stream",
     "text": [
      "python\n"
     ]
    }
   ],
   "source": [
    "print(a + b + c + d+ e+ f)"
   ]
  },
  {
   "cell_type": "code",
   "execution_count": null,
   "id": "2d1dad5b",
   "metadata": {},
   "outputs": [],
   "source": []
  },
  {
   "cell_type": "markdown",
   "id": "e15e6bfd",
   "metadata": {},
   "source": [
    "### Applications of unpacking - Swapping variables"
   ]
  },
  {
   "cell_type": "code",
   "execution_count": 10,
   "id": "2fda0948",
   "metadata": {},
   "outputs": [],
   "source": [
    "a = \"I am A\"\n",
    "b = \"I am B\""
   ]
  },
  {
   "cell_type": "code",
   "execution_count": 11,
   "id": "20b68b43",
   "metadata": {},
   "outputs": [],
   "source": [
    "a,b = b, a"
   ]
  },
  {
   "cell_type": "code",
   "execution_count": 12,
   "id": "c69998ca",
   "metadata": {},
   "outputs": [
    {
     "data": {
      "text/plain": [
       "'I am B'"
      ]
     },
     "execution_count": 12,
     "metadata": {},
     "output_type": "execute_result"
    }
   ],
   "source": [
    "a"
   ]
  },
  {
   "cell_type": "code",
   "execution_count": 13,
   "id": "6c558bfd",
   "metadata": {},
   "outputs": [
    {
     "name": "stdout",
     "output_type": "stream",
     "text": [
      "a => I am B\n"
     ]
    }
   ],
   "source": [
    "print(\"a => {}\".format(a))"
   ]
  },
  {
   "cell_type": "code",
   "execution_count": 14,
   "id": "3fa650c8",
   "metadata": {},
   "outputs": [
    {
     "name": "stdout",
     "output_type": "stream",
     "text": [
      "b => I am A\n"
     ]
    }
   ],
   "source": [
    "print(\"b => {}\".format(b))"
   ]
  },
  {
   "cell_type": "code",
   "execution_count": null,
   "id": "62b2ce5e",
   "metadata": {},
   "outputs": [],
   "source": []
  },
  {
   "cell_type": "markdown",
   "id": "a74b216f",
   "metadata": {},
   "source": [
    "### Unpacking dictionary "
   ]
  },
  {
   "cell_type": "code",
   "execution_count": 15,
   "id": "8232ec67",
   "metadata": {},
   "outputs": [],
   "source": [
    "my_dict = {'key001': 1 , \"2_key\":2, 'key_3': 300 , \\\n",
    "           \"4th_Key\":400,'key_five': 50 , \"key_6\":60, }"
   ]
  },
  {
   "cell_type": "code",
   "execution_count": 16,
   "id": "f5e84a35",
   "metadata": {},
   "outputs": [
    {
     "data": {
      "text/plain": [
       "{'key001': 1,\n",
       " '2_key': 2,\n",
       " 'key_3': 300,\n",
       " '4th_Key': 400,\n",
       " 'key_five': 50,\n",
       " 'key_6': 60}"
      ]
     },
     "execution_count": 16,
     "metadata": {},
     "output_type": "execute_result"
    }
   ],
   "source": [
    "my_dict"
   ]
  },
  {
   "cell_type": "code",
   "execution_count": 17,
   "id": "eac6052e",
   "metadata": {},
   "outputs": [],
   "source": [
    "a, b, c, d, e, f = my_dict"
   ]
  },
  {
   "cell_type": "code",
   "execution_count": 18,
   "id": "a621cc7e",
   "metadata": {},
   "outputs": [
    {
     "name": "stdout",
     "output_type": "stream",
     "text": [
      "a: key001 , b:2_key, c:key_3, d:4th_Key , e:key_five, f:key_6\n"
     ]
    }
   ],
   "source": [
    "print( f\"a: {a} , b:{b}, c:{c}, d:{d} , e:{e}, f:{f}\")"
   ]
  },
  {
   "cell_type": "markdown",
   "id": "33ad56df",
   "metadata": {},
   "source": [
    "### However dictionary(and sets) is not a ordered list and thus unpacking results might be different in different execution runs "
   ]
  },
  {
   "cell_type": "markdown",
   "id": "ea9cb531",
   "metadata": {},
   "source": [
    "### Although this is working fine for now "
   ]
  },
  {
   "cell_type": "code",
   "execution_count": 19,
   "id": "d6741b80",
   "metadata": {},
   "outputs": [],
   "source": [
    "a, b, c, d, e, f = my_dict"
   ]
  },
  {
   "cell_type": "code",
   "execution_count": 20,
   "id": "410dced8",
   "metadata": {},
   "outputs": [
    {
     "name": "stdout",
     "output_type": "stream",
     "text": [
      "a: key001 , b:2_key, c:key_3, d:4th_Key , e:key_five, f:key_6\n"
     ]
    }
   ],
   "source": [
    "print( f\"a: {a} , b:{b}, c:{c}, d:{d} , e:{e}, f:{f}\")"
   ]
  },
  {
   "cell_type": "code",
   "execution_count": null,
   "id": "b5cc15fc",
   "metadata": {},
   "outputs": [],
   "source": []
  },
  {
   "cell_type": "markdown",
   "id": "9e403e94",
   "metadata": {},
   "source": [
    "### Unpacking sets "
   ]
  },
  {
   "cell_type": "code",
   "execution_count": 21,
   "id": "03e1843e",
   "metadata": {},
   "outputs": [],
   "source": [
    "set1 = {'p','y','t','h','o','n'}"
   ]
  },
  {
   "cell_type": "code",
   "execution_count": 22,
   "id": "e7e9025a",
   "metadata": {},
   "outputs": [],
   "source": [
    "a, b, c, d, e, f = set1"
   ]
  },
  {
   "cell_type": "code",
   "execution_count": 23,
   "id": "6279fe94",
   "metadata": {},
   "outputs": [
    {
     "name": "stdout",
     "output_type": "stream",
     "text": [
      "a: p , b:t, c:y, d:n , e:o, f:h\n"
     ]
    }
   ],
   "source": [
    "print( f\"a: {a} , b:{b}, c:{c}, d:{d} , e:{e}, f:{f}\")"
   ]
  },
  {
   "cell_type": "markdown",
   "id": "1bd52f4e",
   "metadata": {},
   "source": [
    "### Wow we got it, if you observer carefully unpacking didnt ordered in the same sequence. Remember sets and dictionary are not ordered and assignment can be random"
   ]
  }
 ],
 "metadata": {
  "kernelspec": {
   "display_name": "Python 3",
   "language": "python",
   "name": "python3"
  },
  "language_info": {
   "codemirror_mode": {
    "name": "ipython",
    "version": 3
   },
   "file_extension": ".py",
   "mimetype": "text/x-python",
   "name": "python",
   "nbconvert_exporter": "python",
   "pygments_lexer": "ipython3",
   "version": "3.8.8"
  }
 },
 "nbformat": 4,
 "nbformat_minor": 5
}
