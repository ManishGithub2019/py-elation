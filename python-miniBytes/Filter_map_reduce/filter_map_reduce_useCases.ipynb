{
 "cells": [
  {
   "cell_type": "markdown",
   "id": "13770914",
   "metadata": {},
   "source": [
    "## This Notebook file have some common use cases for <font color='red'>filter(), map(), reduce()</font>  funtions in python "
   ]
  },
  {
   "cell_type": "markdown",
   "id": "ad05a47d",
   "metadata": {},
   "source": [
    "### Lets start with <font color='red'> filter()</font>\n",
    "- Filtering applies a predicate, or Boolean-valued, function to an iterable and generates a new iterable containing the items that satisfy the Boolean condition."
   ]
  },
  {
   "cell_type": "markdown",
   "id": "868fbe5e",
   "metadata": {},
   "source": [
    "### UseCase01 : Say you have a list of weights of people, certaintly there cannot be people with 0 or negative weights. You can filter using <font color='red'> filter()</font>"
   ]
  },
  {
   "cell_type": "code",
   "execution_count": 37,
   "id": "b7947f7c",
   "metadata": {},
   "outputs": [],
   "source": [
    "weight_list = [30,35.7,80,-10,0.0,20,45,75]"
   ]
  },
  {
   "cell_type": "code",
   "execution_count": 40,
   "id": "38302756",
   "metadata": {},
   "outputs": [],
   "source": [
    "filter_weight_itertaor = filter(lambda x : x >= 0, weight_list)"
   ]
  },
  {
   "cell_type": "code",
   "execution_count": 41,
   "id": "ddb7e6f4",
   "metadata": {},
   "outputs": [
    {
     "data": {
      "text/plain": [
       "[30, 35.7, 80, 0.0, 20, 45, 75]"
      ]
     },
     "execution_count": 41,
     "metadata": {},
     "output_type": "execute_result"
    }
   ],
   "source": [
    "filter_weight_list = list(filter_weight_itertaor)\n",
    "filter_weight_list"
   ]
  },
  {
   "cell_type": "markdown",
   "id": "9726151b",
   "metadata": {},
   "source": [
    "## UseCase02 : Say you have a list with name and some items are empty, you can filter using <font color='red'> filter()</font>"
   ]
  },
  {
   "cell_type": "code",
   "execution_count": 43,
   "id": "fb1fc8fd",
   "metadata": {},
   "outputs": [],
   "source": [
    "myname_list = [\"John\",\"Patty\",\"\",\"Harish\",\"Tim\",\"\",\"Hua\"]"
   ]
  },
  {
   "cell_type": "code",
   "execution_count": 46,
   "id": "5add281e",
   "metadata": {},
   "outputs": [],
   "source": [
    "filter_name_itertaor = filter(None, myname_list)"
   ]
  },
  {
   "cell_type": "code",
   "execution_count": 47,
   "id": "a09c4e71",
   "metadata": {},
   "outputs": [
    {
     "data": {
      "text/plain": [
       "['John', 'Patty', 'Harish', 'Tim', 'Hua']"
      ]
     },
     "execution_count": 47,
     "metadata": {},
     "output_type": "execute_result"
    }
   ],
   "source": [
    "filter_name_list = list(filter_name_itertaor)\n",
    "filter_name_list"
   ]
  },
  {
   "cell_type": "markdown",
   "id": "86ceac3f",
   "metadata": {},
   "source": [
    "## UseCase03 : Using UDF(User defined function with <font color='red'> filter()</font>\n"
   ]
  },
  {
   "cell_type": "code",
   "execution_count": 49,
   "id": "4f194207",
   "metadata": {},
   "outputs": [],
   "source": [
    "def my_even(mynum):\n",
    "    if mynum % 2 ==0:\n",
    "        return mynum\n",
    "    else:\n",
    "        return \"\""
   ]
  },
  {
   "cell_type": "code",
   "execution_count": 50,
   "id": "e9e29e89",
   "metadata": {},
   "outputs": [],
   "source": [
    "my_numlist = [1,3,4,5,66,65,78,2345,678]"
   ]
  },
  {
   "cell_type": "code",
   "execution_count": 55,
   "id": "5978ccb4",
   "metadata": {},
   "outputs": [],
   "source": [
    "filter_evenlist_itertaor = filter(my_even, my_numlist)"
   ]
  },
  {
   "cell_type": "code",
   "execution_count": 56,
   "id": "9912de38",
   "metadata": {},
   "outputs": [
    {
     "data": {
      "text/plain": [
       "[4, 66, 78, 678]"
      ]
     },
     "execution_count": 56,
     "metadata": {},
     "output_type": "execute_result"
    }
   ],
   "source": [
    "filter_evenlist = list(filter_evenlist_itertaor)\n",
    "filter_evenlist"
   ]
  },
  {
   "cell_type": "markdown",
   "id": "fa691f89",
   "metadata": {},
   "source": [
    "## UseCase04 : Remove outlier using filters <font color='red'> filter()</font>"
   ]
  },
  {
   "cell_type": "code",
   "execution_count": 57,
   "id": "77bb3d66",
   "metadata": {},
   "outputs": [],
   "source": [
    "import statistics as st\n",
    "data = [10,8,45,5,6,6,10,34,56]"
   ]
  },
  {
   "cell_type": "code",
   "execution_count": 64,
   "id": "c585c1f9",
   "metadata": {},
   "outputs": [
    {
     "name": "stdout",
     "output_type": "stream",
     "text": [
      "Mean :20, Std dev: 19.615045245933032\n"
     ]
    }
   ],
   "source": [
    "my_mean = st.mean(data)\n",
    "my_std_dev= st.stdev(data)\n",
    "print(\"Mean :{}, Std dev: {}\".format(my_mean, my_std_dev))"
   ]
  },
  {
   "cell_type": "code",
   "execution_count": 65,
   "id": "effedf74",
   "metadata": {},
   "outputs": [],
   "source": [
    "outlier_low = my_mean - 2* my_std_dev\n",
    "outlier_high = my_mean + 2* my_std_dev"
   ]
  },
  {
   "cell_type": "code",
   "execution_count": 68,
   "id": "53fc224b",
   "metadata": {},
   "outputs": [],
   "source": [
    "iterator_without_outlier = filter(lambda x :  outlier_low <=x <= outlier_high, data)"
   ]
  },
  {
   "cell_type": "code",
   "execution_count": null,
   "id": "c45673db",
   "metadata": {},
   "outputs": [],
   "source": []
  },
  {
   "cell_type": "code",
   "execution_count": null,
   "id": "50cec1d0",
   "metadata": {},
   "outputs": [],
   "source": []
  },
  {
   "cell_type": "markdown",
   "id": "639a5d64",
   "metadata": {},
   "source": [
    "### Lets start with <font color='red'> map()</font>\n",
    "- <font color='red'> Mapping</font> applies a transformation function to an iterable and produces a new iterable of transformed items."
   ]
  },
  {
   "cell_type": "code",
   "execution_count": null,
   "id": "a16abbe7",
   "metadata": {},
   "outputs": [],
   "source": []
  },
  {
   "cell_type": "code",
   "execution_count": null,
   "id": "3b1da3e9",
   "metadata": {},
   "outputs": [],
   "source": []
  },
  {
   "cell_type": "code",
   "execution_count": null,
   "id": "4be079c9",
   "metadata": {},
   "outputs": [],
   "source": []
  },
  {
   "cell_type": "code",
   "execution_count": null,
   "id": "889bb2e9",
   "metadata": {},
   "outputs": [],
   "source": []
  },
  {
   "cell_type": "code",
   "execution_count": null,
   "id": "645c0127",
   "metadata": {},
   "outputs": [],
   "source": []
  },
  {
   "cell_type": "code",
   "execution_count": null,
   "id": "185167fd",
   "metadata": {},
   "outputs": [],
   "source": []
  },
  {
   "cell_type": "code",
   "execution_count": null,
   "id": "1a06cfd1",
   "metadata": {},
   "outputs": [],
   "source": []
  },
  {
   "cell_type": "code",
   "execution_count": null,
   "id": "e37bf40e",
   "metadata": {},
   "outputs": [],
   "source": []
  },
  {
   "cell_type": "code",
   "execution_count": null,
   "id": "74c38a83",
   "metadata": {},
   "outputs": [],
   "source": []
  },
  {
   "cell_type": "code",
   "execution_count": null,
   "id": "7bc9c378",
   "metadata": {},
   "outputs": [],
   "source": []
  },
  {
   "cell_type": "markdown",
   "id": "e748d5da",
   "metadata": {},
   "source": [
    "### UseCase02: Filter specific values from a list(based on some conditions)\n",
    "- Example my_list = [10,-20,30,40,100,0,-20,-1] Remove all the values which are =< 0"
   ]
  },
  {
   "cell_type": "code",
   "execution_count": 6,
   "id": "fc319b79",
   "metadata": {},
   "outputs": [],
   "source": [
    "my_list = [10,-20,30,40,100,0,-20,-1]"
   ]
  },
  {
   "cell_type": "code",
   "execution_count": 13,
   "id": "12c58676",
   "metadata": {},
   "outputs": [
    {
     "data": {
      "text/plain": [
       "[10, 30, 40, 100, -20]"
      ]
     },
     "execution_count": 13,
     "metadata": {},
     "output_type": "execute_result"
    }
   ],
   "source": [
    "#using for loop\n",
    "for idx,x in enumerate(my_list):\n",
    "    if (x <= 0):\n",
    "        my_list.pop(idx)\n",
    "my_list"
   ]
  },
  {
   "cell_type": "code",
   "execution_count": 14,
   "id": "fbe332f4",
   "metadata": {},
   "outputs": [
    {
     "data": {
      "text/plain": [
       "[10, 30, 40, 100]"
      ]
     },
     "execution_count": 14,
     "metadata": {},
     "output_type": "execute_result"
    }
   ],
   "source": [
    "my_list = [10,-20,30,40,100,0,-20,-1]\n",
    "# using list comprehension with condition \n",
    "my_new_list = [x for x in my_list if x > 0]\n",
    "my_new_list"
   ]
  },
  {
   "cell_type": "markdown",
   "id": "017bce92",
   "metadata": {},
   "source": [
    "### UseCase03: Concatenate 2 lists \n",
    "- firstname = [\"Jon\", \"Mary\", \"Mike\", \"Tom\"]\n",
    "- lastname = [\"Li\",\"Right\",\"Hua\",\"Stafford\"]\n",
    "- Generate a new list like [\"Jon Li\", \"Mary Right\", \"Mike Hua\", \"Tom Stafford\"]"
   ]
  },
  {
   "cell_type": "code",
   "execution_count": 15,
   "id": "89073e00",
   "metadata": {},
   "outputs": [],
   "source": [
    "firstname = [\"Jon\", \"Mary\", \"Mike\", \"Tom\"]\n",
    "lastname = [\"Li\",\"Right\",\"Hua\",\"Stafford\"]"
   ]
  },
  {
   "cell_type": "code",
   "execution_count": 27,
   "id": "51073e96",
   "metadata": {},
   "outputs": [
    {
     "data": {
      "text/plain": [
       "['Jon Li', 'Mary Right', 'Mike Hua', 'Tom Stafford']"
      ]
     },
     "execution_count": 27,
     "metadata": {},
     "output_type": "execute_result"
    }
   ],
   "source": [
    "# using for loop\n",
    "fullname = []\n",
    "for idx,fname in enumerate(firstname):\n",
    "    fullname.append(fname+\" \"+lastname[idx])\n",
    "fullname"
   ]
  },
  {
   "cell_type": "code",
   "execution_count": 22,
   "id": "4dcfcd26",
   "metadata": {},
   "outputs": [],
   "source": [
    "# using list comprehension"
   ]
  },
  {
   "cell_type": "code",
   "execution_count": 26,
   "id": "60a96658",
   "metadata": {},
   "outputs": [
    {
     "data": {
      "text/plain": [
       "['Jon Li', 'Mary Right', 'Mike Hua', 'Tom Stafford']"
      ]
     },
     "execution_count": 26,
     "metadata": {},
     "output_type": "execute_result"
    }
   ],
   "source": [
    "my_fullname = [ \" \".join(x) for x in zip(firstname,lastname)]\n",
    "my_fullname"
   ]
  },
  {
   "cell_type": "code",
   "execution_count": null,
   "id": "4e5dda25",
   "metadata": {},
   "outputs": [],
   "source": []
  }
 ],
 "metadata": {
  "kernelspec": {
   "display_name": "Python 3",
   "language": "python",
   "name": "python3"
  },
  "language_info": {
   "codemirror_mode": {
    "name": "ipython",
    "version": 3
   },
   "file_extension": ".py",
   "mimetype": "text/x-python",
   "name": "python",
   "nbconvert_exporter": "python",
   "pygments_lexer": "ipython3",
   "version": "3.8.8"
  }
 },
 "nbformat": 4,
 "nbformat_minor": 5
}
